{
 "cells": [
  {
   "cell_type": "code",
   "execution_count": 1,
   "id": "b9af0eb4",
   "metadata": {},
   "outputs": [],
   "source": [
    "# Loading the Libraries\n",
    "from dotenv import load_dotenv\n",
    "load_dotenv()\n",
    "import pandas as pd\n",
    "import numpy as np\n",
    "from sqlalchemy import create_engine\n",
    "import os,glob\n",
    "\n",
    "GEO_NAME_PATH = '/Users/boristsao/Documents/Projects/canada-vis/data-exploration/geo_name_test.csv'\n",
    "geo_name = pd.read_csv(GEO_NAME_PATH)"
   ]
  },
  {
   "cell_type": "code",
   "execution_count": 2,
   "id": "da164281",
   "metadata": {},
   "outputs": [],
   "source": [
    "geo_name['geo_level'] = geo_name['geo_level'].str.lower()\n",
    "geo_name['parent_alt_geo_code'] = \"\"\n",
    "province = geo_name[geo_name['geo_level'] == 'province']\n",
    "census_division = geo_name[geo_name['geo_level'] == 'census division']\n",
    "census_subdivision = geo_name[geo_name['geo_level'] == 'census subdivision']"
   ]
  },
  {
   "cell_type": "code",
   "execution_count": 3,
   "id": "87859d73",
   "metadata": {},
   "outputs": [
    {
     "name": "stderr",
     "output_type": "stream",
     "text": [
      "/var/folders/0p/c1842hdx3cl1f16fhby8ffhr0000gn/T/ipykernel_27004/4032030726.py:1: SettingWithCopyWarning: \n",
      "A value is trying to be set on a copy of a slice from a DataFrame.\n",
      "Try using .loc[row_indexer,col_indexer] = value instead\n",
      "\n",
      "See the caveats in the documentation: https://pandas.pydata.org/pandas-docs/stable/user_guide/indexing.html#returning-a-view-versus-a-copy\n",
      "  province['parent_dguid'] = 'Canada'\n",
      "/var/folders/0p/c1842hdx3cl1f16fhby8ffhr0000gn/T/ipykernel_27004/4032030726.py:2: SettingWithCopyWarning: \n",
      "A value is trying to be set on a copy of a slice from a DataFrame.\n",
      "Try using .loc[row_indexer,col_indexer] = value instead\n",
      "\n",
      "See the caveats in the documentation: https://pandas.pydata.org/pandas-docs/stable/user_guide/indexing.html#returning-a-view-versus-a-copy\n",
      "  census_division['parent_alt_geo_code'] = census_division['alt_geo_code'].astype(str).str[:2].astype(int)\n",
      "/var/folders/0p/c1842hdx3cl1f16fhby8ffhr0000gn/T/ipykernel_27004/4032030726.py:3: SettingWithCopyWarning: \n",
      "A value is trying to be set on a copy of a slice from a DataFrame.\n",
      "Try using .loc[row_indexer,col_indexer] = value instead\n",
      "\n",
      "See the caveats in the documentation: https://pandas.pydata.org/pandas-docs/stable/user_guide/indexing.html#returning-a-view-versus-a-copy\n",
      "  census_subdivision['parent_alt_geo_code'] = census_subdivision['alt_geo_code'].astype(str).str[:4].astype(int)\n"
     ]
    }
   ],
   "source": [
    "province['parent_dguid'] = 'Canada'\n",
    "census_division['parent_alt_geo_code'] = census_division['alt_geo_code'].astype(str).str[:2].astype(int)\n",
    "census_subdivision['parent_alt_geo_code'] = census_subdivision['alt_geo_code'].astype(str).str[:4].astype(int)"
   ]
  },
  {
   "cell_type": "code",
   "execution_count": 4,
   "id": "cd81b6f4",
   "metadata": {},
   "outputs": [],
   "source": [
    "merged_census_division = census_division.merge(province, left_on='parent_alt_geo_code', right_on='alt_geo_code', how='left')\n",
    "merged_census_subdivision = census_subdivision.merge(census_division, left_on='parent_alt_geo_code', right_on='alt_geo_code', how='left')\n",
    "# census_division"
   ]
  },
  {
   "cell_type": "code",
   "execution_count": 5,
   "id": "56ee1bbd",
   "metadata": {},
   "outputs": [],
   "source": [
    "merged_census_division = merged_census_division[['dguid_x', 'alt_geo_code_x', 'geo_level_x', 'geo_name_x', 'dguid_y']]\n",
    "merged_census_subdivision = merged_census_subdivision[['dguid_x', 'alt_geo_code_x', 'geo_level_x', 'geo_name_x', 'dguid_y']]"
   ]
  },
  {
   "cell_type": "code",
   "execution_count": 6,
   "id": "262bca59",
   "metadata": {},
   "outputs": [],
   "source": [
    "census = pd.concat([merged_census_division, merged_census_subdivision])\n",
    "census.rename({'dguid_x': 'dguid', 'alt_geo_code_x': 'alt_geo_code', 'geo_level_x': 'geo_level', 'geo_name_x': 'geo_name', 'dguid_y': 'parent_dguid'}, axis=1, inplace=True)\n"
   ]
  },
  {
   "cell_type": "code",
   "execution_count": 8,
   "id": "2042b877",
   "metadata": {},
   "outputs": [],
   "source": [
    "final = pd.concat([province, census])\n",
    "# drop parent_alt_geo_code\n",
    "final.drop(['parent_alt_geo_code'], axis=1, inplace=True)\n",
    "final.to_csv('geo_name_final.csv', index=False)"
   ]
  },
  {
   "cell_type": "code",
   "execution_count": 9,
   "id": "59d70f0d",
   "metadata": {},
   "outputs": [],
   "source": [
    "# Local Connection\n",
    "ssl_args = {'ssl_ca': \"/etc/ssl/cert.pem\"}\n",
    "\n",
    "conn_string = 'mysql+pymysql://' + \"root\" + ':' + \"Chuckie2020!\" + '@' + \"localhost\" + '/' + \"canada_vis\" \n",
    "\n",
    "engine = create_engine(conn_string, connect_args=ssl_args)\n",
    "\n",
    "with engine.begin() as connection:\n",
    "    final.to_sql('geo_names', con=connection, if_exists='replace')"
   ]
  },
  {
   "cell_type": "code",
   "execution_count": null,
   "id": "70c4ab0f",
   "metadata": {},
   "outputs": [],
   "source": []
  }
 ],
 "metadata": {
  "kernelspec": {
   "display_name": "Python 3.9.12 ('base')",
   "language": "python",
   "name": "python3"
  },
  "language_info": {
   "codemirror_mode": {
    "name": "ipython",
    "version": 3
   },
   "file_extension": ".py",
   "mimetype": "text/x-python",
   "name": "python",
   "nbconvert_exporter": "python",
   "pygments_lexer": "ipython3",
   "version": "3.9.12"
  },
  "vscode": {
   "interpreter": {
    "hash": "8d057af1a5c49b4bed786b95378487de8898a19ac88ffccdd8bd5a4534c5371a"
   }
  }
 },
 "nbformat": 4,
 "nbformat_minor": 5
}
