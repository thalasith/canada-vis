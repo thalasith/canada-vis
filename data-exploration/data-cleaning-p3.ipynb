{
 "cells": [
  {
   "cell_type": "code",
   "execution_count": 1,
   "metadata": {},
   "outputs": [],
   "source": [
    "# Loading the Libraries\n",
    "import pandas as pd\n",
    "import numpy as np\n",
    "import os,glob"
   ]
  },
  {
   "cell_type": "code",
   "execution_count": 2,
   "metadata": {},
   "outputs": [],
   "source": [
    "# Change the column names\n",
    "csv = '/Users/boristsao/Documents/Projects/canada-vis/data-exploration/final-data/summary.csv'\n",
    "df = pd.read_csv(csv, encoding=\"ISO-8859-1\",low_memory=False)"
   ]
  },
  {
   "cell_type": "code",
   "execution_count": 3,
   "metadata": {},
   "outputs": [],
   "source": [
    "new_columns = {}\n",
    "for column in df.columns:\n",
    "    new_columns[column] = column.lower().replace(\"(lim-at)\", \"lim_at\").replace(\"(lico-at)\", \"lico_at\").replace(\"_(%)\", \"\").replace(\"_($)\", \"\").replace(\",\", \"\").replace(\"_-_\", \"_\").replace(\"_100%_data\", \"\").replace(\"-\", \"\")"
   ]
  },
  {
   "cell_type": "code",
   "execution_count": 4,
   "metadata": {},
   "outputs": [],
   "source": [
    "output = '/Users/boristsao/Documents/Projects/canada-vis/data-exploration/upload/summary.csv'\n",
    "new_df = df.rename(columns=new_columns)\n",
    "new_df.to_csv(output)"
   ]
  }
 ],
 "metadata": {
  "kernelspec": {
   "display_name": "Python 3 (ipykernel)",
   "language": "python",
   "name": "python3"
  },
  "language_info": {
   "codemirror_mode": {
    "name": "ipython",
    "version": 3
   },
   "file_extension": ".py",
   "mimetype": "text/x-python",
   "name": "python",
   "nbconvert_exporter": "python",
   "pygments_lexer": "ipython3",
   "version": "3.10.6"
  },
  "vscode": {
   "interpreter": {
    "hash": "aee8b7b246df8f9039afb4144a1f6fd8d2ca17a180786b69acc140d282b71a49"
   }
  }
 },
 "nbformat": 4,
 "nbformat_minor": 2
}
