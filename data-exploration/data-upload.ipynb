{
 "cells": [
  {
   "cell_type": "code",
   "execution_count": 1,
   "id": "80392c58",
   "metadata": {},
   "outputs": [],
   "source": [
    "# Loading the Libraries\n",
    "from dotenv import load_dotenv\n",
    "load_dotenv()\n",
    "import os\n",
    "import pandas as pd\n",
    "import numpy as np\n",
    "from sqlalchemy import create_engine\n",
    "import os,glob"
   ]
  },
  {
   "cell_type": "code",
   "execution_count": 2,
   "id": "8f060527",
   "metadata": {},
   "outputs": [],
   "source": [
    "AGE_GROUP_PATH = '/Users/boristsao/Documents/Projects/canada-vis/data-exploration/age_groups_test.csv'\n",
    "GEO_NAME_PATH = '/Users/boristsao/Documents/Projects/canada-vis/data-exploration/geo_name_test.csv'\n",
    "#CHANGE\n",
    "age_group = pd.read_csv(AGE_GROUP_PATH)\n",
    "geo_name = pd.read_csv(GEO_NAME_PATH)\n",
    "# df.shape"
   ]
  },
  {
   "cell_type": "code",
   "execution_count": 3,
   "id": "515479fb",
   "metadata": {},
   "outputs": [
    {
     "data": {
      "text/html": [
       "<div>\n",
       "<style scoped>\n",
       "    .dataframe tbody tr th:only-of-type {\n",
       "        vertical-align: middle;\n",
       "    }\n",
       "\n",
       "    .dataframe tbody tr th {\n",
       "        vertical-align: top;\n",
       "    }\n",
       "\n",
       "    .dataframe thead th {\n",
       "        text-align: right;\n",
       "    }\n",
       "</style>\n",
       "<table border=\"1\" class=\"dataframe\">\n",
       "  <thead>\n",
       "    <tr style=\"text-align: right;\">\n",
       "      <th></th>\n",
       "      <th>dguid</th>\n",
       "      <th>alt_geo_code</th>\n",
       "      <th>geo_level</th>\n",
       "      <th>geo_name</th>\n",
       "    </tr>\n",
       "  </thead>\n",
       "  <tbody>\n",
       "    <tr>\n",
       "      <th>0</th>\n",
       "      <td>2021A000210</td>\n",
       "      <td>10</td>\n",
       "      <td>Province</td>\n",
       "      <td>Newfoundland and Labrador</td>\n",
       "    </tr>\n",
       "    <tr>\n",
       "      <th>1</th>\n",
       "      <td>2021A000211</td>\n",
       "      <td>11</td>\n",
       "      <td>Province</td>\n",
       "      <td>Prince Edward Island</td>\n",
       "    </tr>\n",
       "    <tr>\n",
       "      <th>2</th>\n",
       "      <td>2021A000212</td>\n",
       "      <td>12</td>\n",
       "      <td>Province</td>\n",
       "      <td>Nova Scotia</td>\n",
       "    </tr>\n",
       "    <tr>\n",
       "      <th>3</th>\n",
       "      <td>2021A000213</td>\n",
       "      <td>13</td>\n",
       "      <td>Province</td>\n",
       "      <td>New Brunswick</td>\n",
       "    </tr>\n",
       "    <tr>\n",
       "      <th>4</th>\n",
       "      <td>2021A000224</td>\n",
       "      <td>24</td>\n",
       "      <td>Province</td>\n",
       "      <td>Quebec</td>\n",
       "    </tr>\n",
       "  </tbody>\n",
       "</table>\n",
       "</div>"
      ],
      "text/plain": [
       "         dguid  alt_geo_code geo_level                   geo_name\n",
       "0  2021A000210            10  Province  Newfoundland and Labrador\n",
       "1  2021A000211            11  Province       Prince Edward Island\n",
       "2  2021A000212            12  Province                Nova Scotia\n",
       "3  2021A000213            13  Province              New Brunswick\n",
       "4  2021A000224            24  Province                     Quebec"
      ]
     },
     "execution_count": 3,
     "metadata": {},
     "output_type": "execute_result"
    }
   ],
   "source": [
    "age_group.head()\n",
    "geo_name.head()"
   ]
  },
  {
   "cell_type": "code",
   "execution_count": 4,
   "id": "bc3456b8",
   "metadata": {},
   "outputs": [],
   "source": [
    "age_group = age_group.fillna(0)"
   ]
  },
  {
   "cell_type": "code",
   "execution_count": 5,
   "id": "a905957d",
   "metadata": {},
   "outputs": [],
   "source": [
    "# Creating Connection\n",
    "ssl_args = {'ssl_ca': \"/etc/ssl/cert.pem\"}\n",
    "\n",
    "conn_string = 'mysql+pymysql://' + \"root\" + ':' + \"Chuckie2020!\" + '@' + \"localhost\" + '/' + \"canada_vis\" \n",
    "\n",
    "engine = create_engine(conn_string, connect_args=ssl_args)\n"
   ]
  },
  {
   "cell_type": "code",
   "execution_count": 5,
   "id": "cd7812a6",
   "metadata": {},
   "outputs": [],
   "source": [
    "# Connecting Locally\n",
    "ssl_args = {'ssl_ca': \"/etc/ssl/cert.pem\"}\n",
    "\n",
    "conn_string = 'mysql+pymysql://' + os.getenv(\"USERNAME\") + ':' + os.getenv(\"PASSWORD\") + '@' + os.getenv(\"HOST\") + '/' + os.getenv(\"DATABASE\") \n",
    "\n",
    "engine = create_engine(conn_string, connect_args=ssl_args)\n"
   ]
  },
  {
   "cell_type": "code",
   "execution_count": 6,
   "id": "539005e5",
   "metadata": {},
   "outputs": [
    {
     "name": "stdout",
     "output_type": "stream",
     "text": [
      "pscale_pw_mSCd2tWSPRXgAc06lKr1MT9yrdxVvKcOqgSqN58PcWr\n"
     ]
    }
   ],
   "source": [
    "print(os.getenv(\"PASSWORD\"))"
   ]
  },
  {
   "cell_type": "code",
   "execution_count": 7,
   "id": "a032b9e8",
   "metadata": {},
   "outputs": [],
   "source": [
    "with engine.begin() as connection:\n",
    "    age_group.to_sql('age_groups', con=connection, if_exists='replace')\n",
    "    geo_name.to_sql('geo_names', con=connection, if_exists='replace')"
   ]
  },
  {
   "cell_type": "code",
   "execution_count": 6,
   "id": "c32a149d",
   "metadata": {},
   "outputs": [],
   "source": [
    "with engine.begin() as connection:\n",
    "    age_group.to_sql('age_groups', con=connection, if_exists='append')"
   ]
  },
  {
   "cell_type": "code",
   "execution_count": 8,
   "id": "6e6f9e86",
   "metadata": {
    "scrolled": true
   },
   "outputs": [
    {
     "data": {
      "text/html": [
       "<div>\n",
       "<style scoped>\n",
       "    .dataframe tbody tr th:only-of-type {\n",
       "        vertical-align: middle;\n",
       "    }\n",
       "\n",
       "    .dataframe tbody tr th {\n",
       "        vertical-align: top;\n",
       "    }\n",
       "\n",
       "    .dataframe thead th {\n",
       "        text-align: right;\n",
       "    }\n",
       "</style>\n",
       "<table border=\"1\" class=\"dataframe\">\n",
       "  <thead>\n",
       "    <tr style=\"text-align: right;\">\n",
       "      <th></th>\n",
       "      <th>index</th>\n",
       "      <th>dguid</th>\n",
       "      <th>male_0_to_4_years</th>\n",
       "      <th>male_10_to_14_years</th>\n",
       "      <th>male_100_years_and_over</th>\n",
       "      <th>male_15_to_19_years</th>\n",
       "      <th>male_20_to_24_years</th>\n",
       "      <th>male_25_to_29_years</th>\n",
       "      <th>male_30_to_34_years</th>\n",
       "      <th>male_35_to_39_years</th>\n",
       "      <th>...</th>\n",
       "      <th>female_75_to_79_years</th>\n",
       "      <th>female_80_to_84_years</th>\n",
       "      <th>female_85_to_89_years</th>\n",
       "      <th>female_90_to_94_years</th>\n",
       "      <th>female_95_to_99_years</th>\n",
       "      <th>index</th>\n",
       "      <th>dguid</th>\n",
       "      <th>alt_geo_code</th>\n",
       "      <th>geo_level</th>\n",
       "      <th>geo_name</th>\n",
       "    </tr>\n",
       "  </thead>\n",
       "  <tbody>\n",
       "    <tr>\n",
       "      <th>0</th>\n",
       "      <td>9</td>\n",
       "      <td>2021A000259</td>\n",
       "      <td>111015.0</td>\n",
       "      <td>132425.0</td>\n",
       "      <td>330.0</td>\n",
       "      <td>131245.0</td>\n",
       "      <td>151505.0</td>\n",
       "      <td>170500.0</td>\n",
       "      <td>178925.0</td>\n",
       "      <td>175175.0</td>\n",
       "      <td>...</td>\n",
       "      <td>95015.0</td>\n",
       "      <td>65780.0</td>\n",
       "      <td>42005.0</td>\n",
       "      <td>23120.0</td>\n",
       "      <td>6925.0</td>\n",
       "      <td>9</td>\n",
       "      <td>2021A000259</td>\n",
       "      <td>59</td>\n",
       "      <td>Province</td>\n",
       "      <td>British Columbia</td>\n",
       "    </tr>\n",
       "  </tbody>\n",
       "</table>\n",
       "<p>1 rows × 49 columns</p>\n",
       "</div>"
      ],
      "text/plain": [
       "   index        dguid  male_0_to_4_years  male_10_to_14_years  \\\n",
       "0      9  2021A000259           111015.0             132425.0   \n",
       "\n",
       "   male_100_years_and_over  male_15_to_19_years  male_20_to_24_years  \\\n",
       "0                    330.0             131245.0             151505.0   \n",
       "\n",
       "   male_25_to_29_years  male_30_to_34_years  male_35_to_39_years  ...  \\\n",
       "0             170500.0             178925.0             175175.0  ...   \n",
       "\n",
       "   female_75_to_79_years  female_80_to_84_years  female_85_to_89_years  \\\n",
       "0                95015.0                65780.0                42005.0   \n",
       "\n",
       "   female_90_to_94_years  female_95_to_99_years  index        dguid  \\\n",
       "0                23120.0                 6925.0      9  2021A000259   \n",
       "\n",
       "   alt_geo_code  geo_level          geo_name  \n",
       "0            59   Province  British Columbia  \n",
       "\n",
       "[1 rows x 49 columns]"
      ]
     },
     "execution_count": 8,
     "metadata": {},
     "output_type": "execute_result"
    }
   ],
   "source": [
    "with engine.begin() as connection:\n",
    "    read_test = pd.read_sql(\"SELECT * FROM age_groups a, geo_names g WHERE  a.dguid = g.dguid AND g.geo_name='British Columbia' \", con=connection)\n",
    "#     df = pd.read_csv(csv,encoding=\"ISO-8859-1\")\n",
    "#     df.to_sql('age_groups', con=connection, if_exists='append')\n",
    "read_test.head()"
   ]
  },
  {
   "cell_type": "code",
   "execution_count": null,
   "id": "c00e5451",
   "metadata": {},
   "outputs": [],
   "source": []
  },
  {
   "cell_type": "code",
   "execution_count": null,
   "id": "c408dd74",
   "metadata": {},
   "outputs": [],
   "source": [
    "# Upload Census Division and Province Data\n",
    "with engine.begin() as connection:\n",
    "    new_df.to_sql('age_groups', con=connection, if_exists='append')"
   ]
  }
 ],
 "metadata": {
  "kernelspec": {
   "display_name": "Python 3 (ipykernel)",
   "language": "python",
   "name": "python3"
  },
  "language_info": {
   "codemirror_mode": {
    "name": "ipython",
    "version": 3
   },
   "file_extension": ".py",
   "mimetype": "text/x-python",
   "name": "python",
   "nbconvert_exporter": "python",
   "pygments_lexer": "ipython3",
   "version": "3.9.12"
  }
 },
 "nbformat": 4,
 "nbformat_minor": 5
}
