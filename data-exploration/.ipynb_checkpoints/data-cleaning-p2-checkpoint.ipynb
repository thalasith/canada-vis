{
 "cells": [
  {
   "cell_type": "code",
   "execution_count": 8,
   "metadata": {},
   "outputs": [],
   "source": [
    "import pandas as pd\n",
    "import numpy as np\n",
    "import os,glob"
   ]
  },
  {
   "cell_type": "code",
   "execution_count": 16,
   "metadata": {},
   "outputs": [
    {
     "name": "stderr",
     "output_type": "stream",
     "text": [
      "/var/folders/0p/c1842hdx3cl1f16fhby8ffhr0000gn/T/ipykernel_20027/2218313486.py:7: DtypeWarning: Columns (5) have mixed types. Specify dtype option on import or set low_memory=False.\n",
      "  li.append(pd.read_csv(csv_file))\n",
      "/var/folders/0p/c1842hdx3cl1f16fhby8ffhr0000gn/T/ipykernel_20027/2218313486.py:7: DtypeWarning: Columns (5) have mixed types. Specify dtype option on import or set low_memory=False.\n",
      "  li.append(pd.read_csv(csv_file))\n"
     ]
    }
   ],
   "source": [
    "PATH = '/Users/boristsao/Documents/Projects/canada-vis/data-exploration/cleaned-data/'\n",
    "# test = [x[0] for x in os.walk(PATH)]\n",
    "\n",
    "directory = PATH + 'age_groups_of_the_population'\n",
    "li = []\n",
    "for csv_file in glob.glob(os.path.join(directory, '*.csv')):\n",
    "    li.append(pd.read_csv(csv_file))\n",
    "\n",
    "df = pd.concat(li, axis=0, ignore_index=True)\n",
    "categories = df[\"NEW_CHARACTERISTIC_NAME\"].unique()\n",
    "\n",
    "new_df = df[[\"CENSUS_YEAR\", 'DGUID', \"ALT_GEO_CODE\", \"GEO_LEVEL\", \"GEO_NAME\", \"NEW_CHARACTERISTIC_NAME\", 'C1_COUNT_TOTAL', 'C2_COUNT_MEN+', \"C3_COUNT_WOMEN+\"]]\n"
   ]
  },
  {
   "cell_type": "code",
   "execution_count": 17,
   "metadata": {},
   "outputs": [],
   "source": [
    "total = new_df.set_index(['CENSUS_YEAR','DGUID', 'ALT_GEO_CODE', 'GEO_LEVEL', \"GEO_NAME\", \"NEW_CHARACTERISTIC_NAME\"])['C1_COUNT_TOTAL'].unstack().reset_index()\n",
    "original_columns =  total.columns.tolist()\n",
    "t_transformed_columns = total.drop(['CENSUS_YEAR', 'DGUID','ALT_GEO_CODE', 'GEO_LEVEL', \"GEO_NAME\"], axis=1).columns\n",
    "t_transformed_columns = ['CENSUS_YEAR', 'DGUID','ALT_GEO_CODE', 'GEO_LEVEL', \"GEO_NAME\"]+  [\"Total \" + s.lstrip() for s in t_transformed_columns]\n",
    "total.columns = t_transformed_columns\n",
    "\n"
   ]
  },
  {
   "cell_type": "code",
   "execution_count": 19,
   "metadata": {},
   "outputs": [],
   "source": [
    "# Men Columns\n",
    "men = new_df.set_index(['CENSUS_YEAR', 'DGUID','ALT_GEO_CODE', 'GEO_LEVEL', \"GEO_NAME\", \"NEW_CHARACTERISTIC_NAME\"])['C2_COUNT_MEN+'].unstack().reset_index()\n",
    "original_columns =  men.columns.tolist()\n",
    "m_transformed_columns = men.drop(['CENSUS_YEAR','DGUID', 'ALT_GEO_CODE', 'GEO_LEVEL', \"GEO_NAME\"], axis=1).columns\n",
    "m_transformed_columns = ['CENSUS_YEAR', 'DGUID','ALT_GEO_CODE', 'GEO_LEVEL', \"GEO_NAME\"]+  [\"Male \" + s.lstrip() for s in m_transformed_columns]\n",
    "men.columns = m_transformed_columns\n"
   ]
  },
  {
   "cell_type": "code",
   "execution_count": 20,
   "metadata": {},
   "outputs": [],
   "source": [
    "# Women Columns\n",
    "women = new_df.set_index(['CENSUS_YEAR', 'DGUID','ALT_GEO_CODE', 'GEO_LEVEL', \"GEO_NAME\", \"NEW_CHARACTERISTIC_NAME\"])['C3_COUNT_WOMEN+'].unstack().reset_index()\n",
    "original_columns =  women.columns.tolist()\n",
    "f_transformed_columns = women.drop(['CENSUS_YEAR', 'DGUID','ALT_GEO_CODE', 'GEO_LEVEL', \"GEO_NAME\"], axis=1).columns\n",
    "f_transformed_columns = ['CENSUS_YEAR','DGUID', 'ALT_GEO_CODE', 'GEO_LEVEL', \"GEO_NAME\"]+  [\"Female \" + s.lstrip() for s in f_transformed_columns]\n",
    "women.columns = f_transformed_columns"
   ]
  },
  {
   "cell_type": "code",
   "execution_count": 21,
   "metadata": {},
   "outputs": [],
   "source": [
    "final = pd.concat([total, men, women], axis=1, join=\"inner\", ignore_index=True, keys=['CENSUS_YEAR','DGUID', 'ALT_GEO_CODE', 'GEO_LEVEL', \"GEO_NAME\"])\n",
    "final_columns = t_transformed_columns + m_transformed_columns + f_transformed_columns\n",
    "final.columns = final_columns\n",
    "final = final.loc[:,~final.columns.duplicated()].copy()\n",
    "final.to_csv('test.csv')"
   ]
  },
  {
   "cell_type": "code",
   "execution_count": 4,
   "metadata": {},
   "outputs": [],
   "source": [
    "files = ['age_groups_of_the_population', 'occupied_private_dwellings_by_structural_type_of_dwelling', 'private_household_by_household_size', 'marital_status_for_the_total_population_aged_15_years_and_over', 'census_families_in_private_households_by_family_size', 'total_number_of_census_families_in_privatehousehold', 'persons_in_private_households', 'household_type', 'total_income_groups_in_2020_for_the_population_aged_15_years_and_over_in_private_households', 'after-tax_income_groups_in_2020_for_the_population_aged_15_years_and_over_in_private_households_', 'employment_income_groups_in_2020_for_the_population_aged_15_years_and_over_in_private_households', 'household_total_income_groups_in_2020_for_private_households', 'household_after-tax_income_groups_in_2020_for_private_households', 'lim_low-income_status_in_2020_for_the_population_in_private_households', 'in_low_income_based_on_the_low-income_measure_after_tax', 'lico_low-income_status_in_2020_for_the_population_in_private_households_to_whom_the_low-income_concept_is_applicable', 'in_low_income_based_on_the_low-income_cut-offs_after_tax', 'adjusted_after-tax_economic_family_income_decile_group_for_the_population_in_private_households', 'knowledge_of_official_languages_for_the_total_population_excluding_institutional_residents', 'first_official_language_spoken_for_the_total_population_excluding_institutional_residents', 'mother_tongue_for_the_total_population_excluding_institutional_residents', 'all_languages_spoken_at_home_for_the_total_population_excluding_institutional_residents', 'language_spoken_most_often_at_home_for_the_total_population_excluding_institutional_residents', 'other_languages_spoken_regularly_at_home_for_the_total_population_excluding_institutional_residents_']"
   ]
  },
  {
   "cell_type": "code",
   "execution_count": 7,
   "metadata": {},
   "outputs": [
    {
     "name": "stderr",
     "output_type": "stream",
     "text": [
      "/var/folders/0p/c1842hdx3cl1f16fhby8ffhr0000gn/T/ipykernel_20027/3181310674.py:6: DtypeWarning: Columns (5) have mixed types. Specify dtype option on import or set low_memory=False.\n",
      "  li.append(pd.read_csv(csv_file))\n",
      "/var/folders/0p/c1842hdx3cl1f16fhby8ffhr0000gn/T/ipykernel_20027/3181310674.py:6: DtypeWarning: Columns (5) have mixed types. Specify dtype option on import or set low_memory=False.\n",
      "  li.append(pd.read_csv(csv_file))\n",
      "/var/folders/0p/c1842hdx3cl1f16fhby8ffhr0000gn/T/ipykernel_20027/3181310674.py:6: DtypeWarning: Columns (5) have mixed types. Specify dtype option on import or set low_memory=False.\n",
      "  li.append(pd.read_csv(csv_file))\n",
      "/var/folders/0p/c1842hdx3cl1f16fhby8ffhr0000gn/T/ipykernel_20027/3181310674.py:6: DtypeWarning: Columns (5) have mixed types. Specify dtype option on import or set low_memory=False.\n",
      "  li.append(pd.read_csv(csv_file))\n",
      "/var/folders/0p/c1842hdx3cl1f16fhby8ffhr0000gn/T/ipykernel_20027/3181310674.py:6: DtypeWarning: Columns (5) have mixed types. Specify dtype option on import or set low_memory=False.\n",
      "  li.append(pd.read_csv(csv_file))\n",
      "/var/folders/0p/c1842hdx3cl1f16fhby8ffhr0000gn/T/ipykernel_20027/3181310674.py:6: DtypeWarning: Columns (5) have mixed types. Specify dtype option on import or set low_memory=False.\n",
      "  li.append(pd.read_csv(csv_file))\n",
      "/var/folders/0p/c1842hdx3cl1f16fhby8ffhr0000gn/T/ipykernel_20027/3181310674.py:6: DtypeWarning: Columns (5) have mixed types. Specify dtype option on import or set low_memory=False.\n",
      "  li.append(pd.read_csv(csv_file))\n",
      "/var/folders/0p/c1842hdx3cl1f16fhby8ffhr0000gn/T/ipykernel_20027/3181310674.py:6: DtypeWarning: Columns (5) have mixed types. Specify dtype option on import or set low_memory=False.\n",
      "  li.append(pd.read_csv(csv_file))\n",
      "/var/folders/0p/c1842hdx3cl1f16fhby8ffhr0000gn/T/ipykernel_20027/3181310674.py:6: DtypeWarning: Columns (5) have mixed types. Specify dtype option on import or set low_memory=False.\n",
      "  li.append(pd.read_csv(csv_file))\n",
      "/var/folders/0p/c1842hdx3cl1f16fhby8ffhr0000gn/T/ipykernel_20027/3181310674.py:6: DtypeWarning: Columns (5) have mixed types. Specify dtype option on import or set low_memory=False.\n",
      "  li.append(pd.read_csv(csv_file))\n",
      "/var/folders/0p/c1842hdx3cl1f16fhby8ffhr0000gn/T/ipykernel_20027/3181310674.py:6: DtypeWarning: Columns (5) have mixed types. Specify dtype option on import or set low_memory=False.\n",
      "  li.append(pd.read_csv(csv_file))\n",
      "/var/folders/0p/c1842hdx3cl1f16fhby8ffhr0000gn/T/ipykernel_20027/3181310674.py:6: DtypeWarning: Columns (5) have mixed types. Specify dtype option on import or set low_memory=False.\n",
      "  li.append(pd.read_csv(csv_file))\n",
      "/var/folders/0p/c1842hdx3cl1f16fhby8ffhr0000gn/T/ipykernel_20027/3181310674.py:6: DtypeWarning: Columns (5) have mixed types. Specify dtype option on import or set low_memory=False.\n",
      "  li.append(pd.read_csv(csv_file))\n",
      "/var/folders/0p/c1842hdx3cl1f16fhby8ffhr0000gn/T/ipykernel_20027/3181310674.py:6: DtypeWarning: Columns (5) have mixed types. Specify dtype option on import or set low_memory=False.\n",
      "  li.append(pd.read_csv(csv_file))\n",
      "/var/folders/0p/c1842hdx3cl1f16fhby8ffhr0000gn/T/ipykernel_20027/3181310674.py:6: DtypeWarning: Columns (5) have mixed types. Specify dtype option on import or set low_memory=False.\n",
      "  li.append(pd.read_csv(csv_file))\n",
      "/var/folders/0p/c1842hdx3cl1f16fhby8ffhr0000gn/T/ipykernel_20027/3181310674.py:6: DtypeWarning: Columns (5) have mixed types. Specify dtype option on import or set low_memory=False.\n",
      "  li.append(pd.read_csv(csv_file))\n"
     ]
    }
   ],
   "source": [
    "cleaned_path = '/Users/boristsao/Documents/Projects/canada-vis/data-exploration/cleaned-data/'\n",
    "for file in files:\n",
    "    dir = cleaned_path + file\n",
    "    li = []\n",
    "    for csv_file in glob.glob(os.path.join(dir, '*.csv')):\n",
    "        li.append(pd.read_csv(csv_file))\n",
    "    \n",
    "    df = pd.concat(li, axis=0, ignore_index=True)\n",
    "    categories = df[\"NEW_CHARACTERISTIC_NAME\"].unique()\n",
    "    new_df = df[[\"CENSUS_YEAR\", \"ALT_GEO_CODE\", \"GEO_LEVEL\", \"GEO_NAME\", \"NEW_CHARACTERISTIC_NAME\", 'C1_COUNT_TOTAL', 'C2_COUNT_MEN+', \"C3_COUNT_WOMEN+\"]]\n",
    "    \n",
    "    total = new_df.set_index(['CENSUS_YEAR', 'DGUID', 'ALT_GEO_CODE', 'GEO_LEVEL', \"GEO_NAME\", \"NEW_CHARACTERISTIC_NAME\"])['C1_COUNT_TOTAL'].unstack().reset_index()\n",
    "    original_columns =  total.columns.tolist()\n",
    "    t_transformed_columns = total.drop(['CENSUS_YEAR','DGUID',  'ALT_GEO_CODE', 'GEO_LEVEL', \"GEO_NAME\"], axis=1).columns\n",
    "    t_transformed_columns = ['CENSUS_YEAR', 'DGUID', 'ALT_GEO_CODE', 'GEO_LEVEL', \"GEO_NAME\"]+  [\"Total \" + s.lstrip() for s in t_transformed_columns]\n",
    "    total.columns = t_transformed_columns\n",
    "\n",
    "    men = new_df.set_index(['CENSUS_YEAR', 'DGUID', 'ALT_GEO_CODE', 'GEO_LEVEL', \"GEO_NAME\", \"NEW_CHARACTERISTIC_NAME\"])['C2_COUNT_MEN+'].unstack().reset_index()\n",
    "    original_columns =  men.columns.tolist()\n",
    "    m_transformed_columns = men.drop(['CENSUS_YEAR','DGUID',  'ALT_GEO_CODE', 'GEO_LEVEL', \"GEO_NAME\"], axis=1).columns\n",
    "    m_transformed_columns = ['CENSUS_YEAR', 'DGUID', 'ALT_GEO_CODE', 'GEO_LEVEL', \"GEO_NAME\"]+  [\"Male \" + s.lstrip() for s in m_transformed_columns]\n",
    "    men.columns = m_transformed_columns\n",
    "\n",
    "    women = new_df.set_index(['CENSUS_YEAR', 'DGUID', 'ALT_GEO_CODE', 'GEO_LEVEL', \"GEO_NAME\", \"NEW_CHARACTERISTIC_NAME\"])['C3_COUNT_WOMEN+'].unstack().reset_index()\n",
    "    original_columns =  women.columns.tolist()\n",
    "    f_transformed_columns = women.drop(['CENSUS_YEAR', 'DGUID', 'ALT_GEO_CODE', 'GEO_LEVEL', \"GEO_NAME\"], axis=1).columns\n",
    "    f_transformed_columns = ['CENSUS_YEAR', 'DGUID', 'ALT_GEO_CODE', 'GEO_LEVEL', \"GEO_NAME\"]+  [\"Female \" + s.lstrip() for s in f_transformed_columns]\n",
    "    women.columns = f_transformed_columns\n",
    "\n",
    "    final = pd.concat([total, men, women], axis=1, join=\"inner\", ignore_index=True, keys=['CENSUS_YEAR', 'ALT_GEO_CODE', 'GEO_LEVEL', \"GEO_NAME\"])\n",
    "    final_columns = t_transformed_columns + m_transformed_columns + f_transformed_columns\n",
    "    final.columns = final_columns\n",
    "    final = final.loc[:,~final.columns.duplicated()].copy()\n",
    "    final = final.dropna(axis=1, how=\"all\")\n",
    "    new_columns = {}\n",
    "\n",
    "    for column in final.columns:\n",
    "        new_columns[column] = column.lower().replace(\" \", \"_\")\n",
    "    new_df = final.rename(columns = new_columns)\n",
    "    new_df = new_df.fillna(0)\n",
    "    final_data_path = '/Users/boristsao/Documents/Projects/canada-vis/data-exploration/final-data/'\n",
    "    new_df.to_csv(final_data_path + file + '.csv', index=False)\n"
   ]
  },
  {
   "cell_type": "code",
   "execution_count": 6,
   "metadata": {},
   "outputs": [
    {
     "name": "stderr",
     "output_type": "stream",
     "text": [
      "/var/folders/0p/c1842hdx3cl1f16fhby8ffhr0000gn/T/ipykernel_20027/3325486020.py:4: DtypeWarning: Columns (5) have mixed types. Specify dtype option on import or set low_memory=False.\n",
      "  li.append(pd.read_csv(csv_file))\n",
      "/var/folders/0p/c1842hdx3cl1f16fhby8ffhr0000gn/T/ipykernel_20027/3325486020.py:4: DtypeWarning: Columns (5) have mixed types. Specify dtype option on import or set low_memory=False.\n",
      "  li.append(pd.read_csv(csv_file))\n",
      "/var/folders/0p/c1842hdx3cl1f16fhby8ffhr0000gn/T/ipykernel_20027/3325486020.py:4: DtypeWarning: Columns (5) have mixed types. Specify dtype option on import or set low_memory=False.\n",
      "  li.append(pd.read_csv(csv_file))\n",
      "/var/folders/0p/c1842hdx3cl1f16fhby8ffhr0000gn/T/ipykernel_20027/3325486020.py:4: DtypeWarning: Columns (5) have mixed types. Specify dtype option on import or set low_memory=False.\n",
      "  li.append(pd.read_csv(csv_file))\n"
     ]
    }
   ],
   "source": [
    "\n",
    "dir = '/Users/boristsao/Documents/Projects/canada-vis/data-exploration/cleaned-data/summary'\n",
    "li = []\n",
    "for csv_file in glob.glob(os.path.join(dir, '*.csv')):\n",
    "    li.append(pd.read_csv(csv_file))\n",
    "\n",
    "df = pd.concat(li, axis=0, ignore_index=True)\n",
    "categories = df[\"NEW_CHARACTERISTIC_NAME\"].unique()\n",
    "new_df = df[[\"CENSUS_YEAR\", \"ALT_GEO_CODE\", \"GEO_LEVEL\", \"GEO_NAME\", \"NEW_CHARACTERISTIC_NAME\", 'C1_COUNT_TOTAL', 'C2_COUNT_MEN+', \"C3_COUNT_WOMEN+\"]]\n",
    "\n",
    "total = new_df.set_index(['CENSUS_YEAR', 'ALT_GEO_CODE', 'GEO_LEVEL', \"GEO_NAME\", \"NEW_CHARACTERISTIC_NAME\"])['C1_COUNT_TOTAL'].unstack().reset_index()\n",
    "original_columns =  total.columns.tolist()\n",
    "t_transformed_columns = total.drop(['CENSUS_YEAR', 'ALT_GEO_CODE', 'GEO_LEVEL', \"GEO_NAME\"], axis=1).columns\n",
    "t_transformed_columns = ['CENSUS_YEAR', 'ALT_GEO_CODE', 'GEO_LEVEL', \"GEO_NAME\"]+  [\"Total \" + s.lstrip() for s in t_transformed_columns]\n",
    "total.columns = t_transformed_columns\n",
    "\n",
    "men = new_df.set_index(['CENSUS_YEAR', 'ALT_GEO_CODE', 'GEO_LEVEL', \"GEO_NAME\", \"NEW_CHARACTERISTIC_NAME\"])['C2_COUNT_MEN+'].unstack().reset_index()\n",
    "original_columns =  men.columns.tolist()\n",
    "m_transformed_columns = men.drop(['CENSUS_YEAR', 'ALT_GEO_CODE', 'GEO_LEVEL', \"GEO_NAME\"], axis=1).columns\n",
    "m_transformed_columns = ['CENSUS_YEAR', 'ALT_GEO_CODE', 'GEO_LEVEL', \"GEO_NAME\"]+  [\"Male \" + s.lstrip() for s in m_transformed_columns]\n",
    "men.columns = m_transformed_columns\n",
    "\n",
    "women = new_df.set_index(['CENSUS_YEAR', 'ALT_GEO_CODE', 'GEO_LEVEL', \"GEO_NAME\", \"NEW_CHARACTERISTIC_NAME\"])['C3_COUNT_WOMEN+'].unstack().reset_index()\n",
    "original_columns =  women.columns.tolist()\n",
    "f_transformed_columns = women.drop(['CENSUS_YEAR', 'ALT_GEO_CODE', 'GEO_LEVEL', \"GEO_NAME\"], axis=1).columns\n",
    "f_transformed_columns = ['CENSUS_YEAR', 'ALT_GEO_CODE', 'GEO_LEVEL', \"GEO_NAME\"]+  [\"Female \" + s.lstrip() for s in f_transformed_columns]\n",
    "women.columns = f_transformed_columns\n",
    "\n",
    "final = pd.concat([total, men, women], axis=1, join=\"inner\", ignore_index=True, keys=['CENSUS_YEAR', 'ALT_GEO_CODE', 'GEO_LEVEL', \"GEO_NAME\"])\n",
    "final_columns = t_transformed_columns + m_transformed_columns + f_transformed_columns\n",
    "final.columns = final_columns\n",
    "final = final.loc[:,~final.columns.duplicated()].copy()\n",
    "final = final.dropna(axis=1, how=\"all\")\n",
    "new_columns = {}\n",
    "\n",
    "for column in final.columns:\n",
    "    new_columns[column] = column.lower().replace(\" \", \"_\")\n",
    "new_df = final.rename(columns = new_columns)\n",
    "new_df = new_df.fillna(0)\n",
    "final_data_path = '/Users/boristsao/Documents/Projects/canada-vis/data-exploration/final-data/'\n",
    "new_df.to_csv(final_data_path + file + '.csv', index=False)\n"
   ]
  },
  {
   "cell_type": "code",
   "execution_count": null,
   "metadata": {},
   "outputs": [],
   "source": []
  }
 ],
 "metadata": {
  "kernelspec": {
   "display_name": "Python 3 (ipykernel)",
   "language": "python",
   "name": "python3"
  },
  "language_info": {
   "codemirror_mode": {
    "name": "ipython",
    "version": 3
   },
   "file_extension": ".py",
   "mimetype": "text/x-python",
   "name": "python",
   "nbconvert_exporter": "python",
   "pygments_lexer": "ipython3",
   "version": "3.9.12"
  },
  "vscode": {
   "interpreter": {
    "hash": "aee8b7b246df8f9039afb4144a1f6fd8d2ca17a180786b69acc140d282b71a49"
   }
  }
 },
 "nbformat": 4,
 "nbformat_minor": 2
}
