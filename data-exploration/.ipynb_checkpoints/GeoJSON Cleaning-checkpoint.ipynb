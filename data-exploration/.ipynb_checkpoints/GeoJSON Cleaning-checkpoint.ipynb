{
 "cells": [
  {
   "cell_type": "code",
   "execution_count": 39,
   "id": "4ee8b574",
   "metadata": {
    "scrolled": true
   },
   "outputs": [],
   "source": [
    "import json\n",
    "import pandas as pd\n",
    "from dotenv import load_dotenv\n",
    "load_dotenv()\n",
    "import pandas as pd\n",
    "import numpy as np\n",
    "from sqlalchemy import create_engine\n",
    "from sqlalchemy.dialects.mysql import JSON, DOUBLE, VARCHAR\n",
    "import os,glob\n",
    "PROVINCES = '/Users/boristsao/Documents/Projects/canada-vis/data-exploration/geojson/provinces.json'\n",
    "CENSUS_DIVISIONS = '/Users/boristsao/Documents/Projects/canada-vis/data-exploration/geojson/censusDivisions.json'\n",
    "CENSUS_SUBDIVISIONS = '/Users/boristsao/Documents/Projects/canada-vis/data-exploration/geojson/subdivisions.json'\n",
    "DISSEMINATION_AREAS = '/Users/boristsao/Documents/Projects/canada-vis/data-exploration/geojson/disseminationAreas.json'\n"
   ]
  },
  {
   "cell_type": "code",
   "execution_count": 40,
   "id": "369bf3a6",
   "metadata": {},
   "outputs": [],
   "source": [
    "def depth(l):\n",
    "    if isinstance(l, list):\n",
    "        return 1 + max(depth(item) for item in l)\n",
    "    else:\n",
    "        return 0"
   ]
  },
  {
   "cell_type": "code",
   "execution_count": 41,
   "id": "46e78937",
   "metadata": {},
   "outputs": [],
   "source": [
    "# Local Connection\n",
    "ssl_args = {'ssl_ca': \"/etc/ssl/cert.pem\"}\n",
    "\n",
    "conn_string = 'mysql+pymysql://' + \"root\" + ':' + \"Chuckie2020!\" + '@' + \"localhost\" + '/' + \"canada_vis\" \n",
    "\n",
    "engine = create_engine(conn_string, connect_args=ssl_args)\n",
    "\n",
    "upload_sql = []"
   ]
  },
  {
   "cell_type": "code",
   "execution_count": 4,
   "id": "83cf9770",
   "metadata": {},
   "outputs": [],
   "source": [
    "# Connecting to Planet Scale\n",
    "ssl_args = {'ssl_ca': \"/etc/ssl/cert.pem\"}\n",
    "\n",
    "conn_string = 'mysql+pymysql://' + os.getenv(\"USERNAME\") + ':' + os.getenv(\"PASSWORD\") + '@' + os.getenv(\"HOST\") + '/' + os.getenv(\"DATABASE\") \n",
    "\n",
    "engine = create_engine(conn_string, connect_args=ssl_args)"
   ]
  },
  {
   "cell_type": "code",
   "execution_count": 42,
   "id": "4b171e5d",
   "metadata": {
    "scrolled": true
   },
   "outputs": [],
   "source": [
    "with open(PROVINCES) as provincesjson:\n",
    "    provinces = json.load(provincesjson)\n",
    "    \n",
    "for feature in provinces[\"features\"]:\n",
    "    feature[\"properties\"][\"geo_name\"] = feature[\"properties\"].pop('PRENAME')\n",
    "    feature[\"properties\"]['CDUID'] = \"0\"\n",
    "    feature[\"geometry\"][\"type\"] = \"MultiPolygon\"\n",
    "    feature['geo_level'] = \"province\"\n",
    "    if (depth(feature['geometry']['coordinates'])) == 3:\n",
    "        feature['geometry']['coordinates'] = [feature['geometry']['coordinates']] \n",
    "\n",
    "\n",
    "for feature in provinces[\"features\"]:\n",
    "    new_data = {}\n",
    "    new_data[\"geo_level\"] = feature['geo_level']\n",
    "    new_data[\"dguid\"] = feature['properties']['DGUID']\n",
    "    new_data[\"pruid\"] = feature['properties']['PRUID']\n",
    "    new_data[\"geo_name\"] = feature['properties']['geo_name']\n",
    "    new_data[\"land_area\"] = feature['properties']['LANDAREA']\n",
    "    new_data[\"coordinates\"] = feature[\"geometry\"][\"coordinates\"]\n",
    "    upload_sql.append(new_data)"
   ]
  },
  {
   "cell_type": "code",
   "execution_count": 43,
   "id": "5bcdce5d",
   "metadata": {},
   "outputs": [
    {
     "name": "stdout",
     "output_type": "stream",
     "text": [
      "{'CDUID': '1001', 'DGUID': '2021A00031001', 'CDNAME': 'Division No.  1', 'CDTYPE': 'CDR', 'LANDAREA': 9104.5799, 'PRUID': '10'}\n"
     ]
    }
   ],
   "source": [
    "with open(CENSUS_DIVISIONS) as census_divisions_json:\n",
    "    census_divisions = json.load(census_divisions_json)\n",
    "\n",
    "    print(census_divisions['features'][0]['properties'])\n",
    "\n",
    "for feature in census_divisions[\"features\"]:\n",
    "    feature[\"properties\"][\"geo_name\"] = feature[\"properties\"].pop('CDNAME')\n",
    "    feature[\"properties\"]['CDUID'] = \"0\"\n",
    "    feature[\"geometry\"][\"type\"] = \"MultiPolygon\"\n",
    "    feature['geo_level'] = \"census division\"\n",
    "    if (depth(feature['geometry']['coordinates'])) == 3:\n",
    "        feature['geometry']['coordinates'] = [feature['geometry']['coordinates']] \n",
    "\n",
    "for feature in census_divisions[\"features\"]:\n",
    "    new_data = {}\n",
    "    new_data[\"geo_level\"] = feature['geo_level']\n",
    "    new_data[\"dguid\"] = feature['properties']['DGUID']\n",
    "    new_data[\"pruid\"] = feature['properties']['PRUID']\n",
    "    new_data[\"geo_name\"] = feature['properties']['geo_name']\n",
    "    new_data[\"land_area\"] = feature['properties']['LANDAREA']\n",
    "    new_data[\"coordinates\"] = feature[\"geometry\"][\"coordinates\"]\n",
    "    upload_sql.append(new_data)"
   ]
  },
  {
   "cell_type": "code",
   "execution_count": 44,
   "id": "1e8caf9d",
   "metadata": {},
   "outputs": [
    {
     "name": "stdout",
     "output_type": "stream",
     "text": [
      "{'CSDUID': '1001101', 'DGUID': '2021A00051001101', 'CSDNAME': 'Division No.  1, Subd. V', 'CSDTYPE': 'SNO', 'LANDAREA': 870.8928, 'PRUID': '10'}\n"
     ]
    }
   ],
   "source": [
    "with open(CENSUS_SUBDIVISIONS) as census_subdivisions_json:\n",
    "    census_subdivisions = json.load(census_subdivisions_json)\n",
    "\n",
    "    print(census_subdivisions['features'][0]['properties'])\n",
    "\n",
    "for feature in census_subdivisions[\"features\"]:\n",
    "    feature[\"properties\"][\"geo_name\"] = feature[\"properties\"].pop('CSDNAME')\n",
    "    feature[\"properties\"]['CDUID'] = \"0\"\n",
    "    feature[\"geometry\"][\"type\"] = \"MultiPolygon\"\n",
    "    feature['geo_level'] = \"census sub division\"\n",
    "    if (depth(feature['geometry']['coordinates'])) == 3:\n",
    "        feature['geometry']['coordinates'] = [feature['geometry']['coordinates']] \n",
    "\n",
    "for feature in census_subdivisions[\"features\"]:\n",
    "    new_data = {}\n",
    "    new_data[\"geo_level\"] = feature['geo_level']\n",
    "    new_data[\"dguid\"] = feature['properties']['DGUID']\n",
    "    new_data[\"pruid\"] = feature['properties']['PRUID']\n",
    "    new_data[\"geo_name\"] = feature['properties']['geo_name']\n",
    "    new_data[\"land_area\"] = feature['properties']['LANDAREA']\n",
    "    new_data[\"coordinates\"] = feature[\"geometry\"][\"coordinates\"]\n",
    "    upload_sql.append(new_data)"
   ]
  },
  {
   "cell_type": "code",
   "execution_count": 45,
   "id": "bcdcc505",
   "metadata": {},
   "outputs": [
    {
     "name": "stdout",
     "output_type": "stream",
     "text": [
      "{'DAUID': '10010165', 'DGUID': '2021S051210010165', 'LANDAREA': 0.3817, 'PRUID': '10'}\n"
     ]
    }
   ],
   "source": [
    "with open(DISSEMINATION_AREAS) as dissemination_areas_json:\n",
    "    disseminationAreas = json.load(dissemination_areas_json)\n",
    "\n",
    "    print(disseminationAreas['features'][0]['properties'])\n",
    "\n",
    "for feature in disseminationAreas[\"features\"]:\n",
    "    feature[\"properties\"][\"geo_name\"] = feature[\"properties\"].pop('DAUID')\n",
    "    feature[\"properties\"]['CDUID'] = \"0\"\n",
    "    feature[\"geometry\"][\"type\"] = \"MultiPolygon\"\n",
    "    feature['geo_level'] = \"dissemination area\"\n",
    "    if (depth(feature['geometry']['coordinates'])) == 3:\n",
    "        feature['geometry']['coordinates'] = [feature['geometry']['coordinates']] \n",
    "\n",
    "for feature in disseminationAreas[\"features\"]:\n",
    "    new_data = {}\n",
    "    new_data[\"geo_level\"] = feature['geo_level']\n",
    "    new_data[\"dguid\"] = feature['properties']['DGUID']\n",
    "    new_data[\"pruid\"] = feature['properties']['PRUID']\n",
    "    new_data[\"geo_name\"] = feature['properties']['geo_name']\n",
    "    new_data[\"land_area\"] = feature['properties']['LANDAREA']\n",
    "    new_data[\"coordinates\"] = feature[\"geometry\"][\"coordinates\"]\n",
    "    upload_sql.append(new_data)"
   ]
  },
  {
   "cell_type": "markdown",
   "id": "7ec1a5cb",
   "metadata": {},
   "source": [
    "PRUID, DGUID, PRNAME, PRENAME, PRFNAME, PREABBR, PPRFABBR, LANDAREA\n",
    "pop\n",
    "PRNAME\n",
    "PRFNAME\n",
    "PREABBR\n",
    "PRFABBR"
   ]
  },
  {
   "cell_type": "code",
   "execution_count": 46,
   "id": "8b66b034",
   "metadata": {
    "scrolled": true
   },
   "outputs": [],
   "source": [
    "data_types_dict = {'geo_level' : VARCHAR(191),\n",
    "                   'dguid' : VARCHAR(191),\n",
    "                   'pruid' : DOUBLE,\n",
    "                   'geo_name': VARCHAR(191),\n",
    "                   'land_area' : DOUBLE,\n",
    "                   'coordinates' : JSON\n",
    "                  }"
   ]
  },
  {
   "cell_type": "code",
   "execution_count": 47,
   "id": "83409f97",
   "metadata": {
    "scrolled": false
   },
   "outputs": [],
   "source": [
    "upload_df = pd.DataFrame(upload_sql)\n",
    "\n",
    "upload_df[\"geo_level\"] = upload_df['geo_level'].astype(\"string\")\n",
    "upload_df[\"dguid\"] = upload_df['dguid'].astype(\"string\")\n",
    "upload_df[\"pruid\"] = pd.to_numeric(upload_df[\"pruid\"])\n",
    "upload_df[\"coordinates\"] = upload_df['coordinates'].astype(\"string\")"
   ]
  },
  {
   "cell_type": "code",
   "execution_count": 48,
   "id": "32c45d65",
   "metadata": {
    "scrolled": true
   },
   "outputs": [
    {
     "data": {
      "text/html": [
       "<div>\n",
       "<style scoped>\n",
       "    .dataframe tbody tr th:only-of-type {\n",
       "        vertical-align: middle;\n",
       "    }\n",
       "\n",
       "    .dataframe tbody tr th {\n",
       "        vertical-align: top;\n",
       "    }\n",
       "\n",
       "    .dataframe thead th {\n",
       "        text-align: right;\n",
       "    }\n",
       "</style>\n",
       "<table border=\"1\" class=\"dataframe\">\n",
       "  <thead>\n",
       "    <tr style=\"text-align: right;\">\n",
       "      <th></th>\n",
       "      <th>geo_level</th>\n",
       "      <th>dguid</th>\n",
       "      <th>pruid</th>\n",
       "      <th>geo_name</th>\n",
       "      <th>land_area</th>\n",
       "      <th>coordinates</th>\n",
       "    </tr>\n",
       "  </thead>\n",
       "  <tbody>\n",
       "    <tr>\n",
       "      <th>0</th>\n",
       "      <td>province</td>\n",
       "      <td>2021A000210</td>\n",
       "      <td>10</td>\n",
       "      <td>Newfoundland and Labrador</td>\n",
       "      <td>3.581704e+05</td>\n",
       "      <td>[[[[-56.8231629793897, 53.80003110535971], [-5...</td>\n",
       "    </tr>\n",
       "    <tr>\n",
       "      <th>1</th>\n",
       "      <td>province</td>\n",
       "      <td>2021A000211</td>\n",
       "      <td>11</td>\n",
       "      <td>Prince Edward Island</td>\n",
       "      <td>5.681179e+03</td>\n",
       "      <td>[[[[-61.986060886982244, 46.46285569495182], [...</td>\n",
       "    </tr>\n",
       "    <tr>\n",
       "      <th>2</th>\n",
       "      <td>province</td>\n",
       "      <td>2021A000212</td>\n",
       "      <td>12</td>\n",
       "      <td>Nova Scotia</td>\n",
       "      <td>5.282471e+04</td>\n",
       "      <td>[[[[-60.890609893286005, 45.576858598311695], ...</td>\n",
       "    </tr>\n",
       "    <tr>\n",
       "      <th>3</th>\n",
       "      <td>province</td>\n",
       "      <td>2021A000213</td>\n",
       "      <td>13</td>\n",
       "      <td>New Brunswick</td>\n",
       "      <td>7.124850e+04</td>\n",
       "      <td>[[[[-66.90309091045383, 44.95715030411355], [-...</td>\n",
       "    </tr>\n",
       "    <tr>\n",
       "      <th>4</th>\n",
       "      <td>province</td>\n",
       "      <td>2021A000224</td>\n",
       "      <td>24</td>\n",
       "      <td>Quebec</td>\n",
       "      <td>1.298600e+06</td>\n",
       "      <td>[[[[-69.23754572462461, 59.16254229713314], [-...</td>\n",
       "    </tr>\n",
       "  </tbody>\n",
       "</table>\n",
       "</div>"
      ],
      "text/plain": [
       "  geo_level        dguid  pruid                   geo_name     land_area  \\\n",
       "0  province  2021A000210     10  Newfoundland and Labrador  3.581704e+05   \n",
       "1  province  2021A000211     11       Prince Edward Island  5.681179e+03   \n",
       "2  province  2021A000212     12                Nova Scotia  5.282471e+04   \n",
       "3  province  2021A000213     13              New Brunswick  7.124850e+04   \n",
       "4  province  2021A000224     24                     Quebec  1.298600e+06   \n",
       "\n",
       "                                         coordinates  \n",
       "0  [[[[-56.8231629793897, 53.80003110535971], [-5...  \n",
       "1  [[[[-61.986060886982244, 46.46285569495182], [...  \n",
       "2  [[[[-60.890609893286005, 45.576858598311695], ...  \n",
       "3  [[[[-66.90309091045383, 44.95715030411355], [-...  \n",
       "4  [[[[-69.23754572462461, 59.16254229713314], [-...  "
      ]
     },
     "execution_count": 48,
     "metadata": {},
     "output_type": "execute_result"
    }
   ],
   "source": [
    "upload_df.head()"
   ]
  },
  {
   "cell_type": "code",
   "execution_count": 50,
   "id": "9e03ba74",
   "metadata": {},
   "outputs": [
    {
     "data": {
      "text/plain": [
       "<bound method NDFrame.describe of                  geo_level              dguid  pruid  \\\n",
       "0                 province        2021A000210     10   \n",
       "1                 province        2021A000211     11   \n",
       "2                 province        2021A000212     12   \n",
       "3                 province        2021A000213     13   \n",
       "4                 province        2021A000224     24   \n",
       "...                    ...                ...    ...   \n",
       "63394  dissemination areas  2021S051262080024     62   \n",
       "63395  dissemination areas  2021S051262080025     62   \n",
       "63396  dissemination areas  2021S051262080026     62   \n",
       "63397  dissemination areas  2021S051262080027     62   \n",
       "63398  dissemination areas  2021S051262080028     62   \n",
       "\n",
       "                        geo_name     land_area  \\\n",
       "0      Newfoundland and Labrador  3.581704e+05   \n",
       "1           Prince Edward Island  5.681179e+03   \n",
       "2                    Nova Scotia  5.282471e+04   \n",
       "3                  New Brunswick  7.124850e+04   \n",
       "4                         Quebec  1.298600e+06   \n",
       "...                          ...           ...   \n",
       "63394                   62080024  4.006000e-01   \n",
       "63395                   62080025  2.873941e+02   \n",
       "63396                   62080026  2.515981e+02   \n",
       "63397                   62080027  2.464580e+01   \n",
       "63398                   62080028  3.900400e+00   \n",
       "\n",
       "                                             coordinates  \n",
       "0      [[[[-56.8231629793897, 53.80003110535971], [-5...  \n",
       "1      [[[[-61.986060886982244, 46.46285569495182], [...  \n",
       "2      [[[[-60.890609893286005, 45.576858598311695], ...  \n",
       "3      [[[[-66.90309091045383, 44.95715030411355], [-...  \n",
       "4      [[[[-69.23754572462461, 59.16254229713314], [-...  \n",
       "...                                                  ...  \n",
       "63394  [[[[-105.05405981986273, 69.11750490449948], [...  \n",
       "63395  [[[[-115.35872402369571, 67.89705009935997], [...  \n",
       "63396  [[[[-114.96838032582826, 67.82316429139676], [...  \n",
       "63397  [[[[-95.81000050875214, 68.63218081169836], [-...  \n",
       "63398  [[[[-95.87868316808837, 68.62209798819873], [-...  \n",
       "\n",
       "[63399 rows x 6 columns]>"
      ]
     },
     "execution_count": 50,
     "metadata": {},
     "output_type": "execute_result"
    }
   ],
   "source": [
    "upload_df.describe"
   ]
  },
  {
   "cell_type": "code",
   "execution_count": 61,
   "id": "ff45f2c5",
   "metadata": {
    "scrolled": true
   },
   "outputs": [
    {
     "data": {
      "text/plain": [
       "geo_level       string\n",
       "dguid           string\n",
       "pruid            int64\n",
       "geo_name        object\n",
       "land_area      float64\n",
       "coordinates     string\n",
       "dtype: object"
      ]
     },
     "execution_count": 61,
     "metadata": {},
     "output_type": "execute_result"
    }
   ],
   "source": [
    "upload_df.dtypes"
   ]
  },
  {
   "cell_type": "code",
   "execution_count": 62,
   "id": "2613f43c",
   "metadata": {
    "scrolled": true
   },
   "outputs": [],
   "source": [
    "with engine.begin() as connection:\n",
    "    upload_df.to_sql('geo_areas',dtype=data_types_dict, con=connection, if_exists='replace')"
   ]
  },
  {
   "cell_type": "code",
   "execution_count": 65,
   "id": "422e9c33",
   "metadata": {
    "scrolled": true
   },
   "outputs": [
    {
     "name": "stdout",
     "output_type": "stream",
     "text": [
      "    index geo_level        dguid  pruid                   geo_name  \\\n",
      "0       0  province  2021A000210   10.0  Newfoundland and Labrador   \n",
      "1       1  province  2021A000211   11.0       Prince Edward Island   \n",
      "2       2  province  2021A000212   12.0                Nova Scotia   \n",
      "3       3  province  2021A000213   13.0              New Brunswick   \n",
      "4       4  province  2021A000224   24.0                     Quebec   \n",
      "5       5  province  2021A000235   35.0                    Ontario   \n",
      "6       6  province  2021A000246   46.0                   Manitoba   \n",
      "7       7  province  2021A000247   47.0               Saskatchewan   \n",
      "8       8  province  2021A000248   48.0                    Alberta   \n",
      "9       9  province  2021A000259   59.0           British Columbia   \n",
      "10     10  province  2021A000260   60.0                      Yukon   \n",
      "11     11  province  2021A000261   61.0      Northwest Territories   \n",
      "12     12  province  2021A000262   62.0                    Nunavut   \n",
      "\n",
      "       land_area                                        coordinates  \n",
      "0   3.581704e+05  \"[[[[-56.8231629793897, 53.80003110535971], [-...  \n",
      "1   5.681179e+03  \"[[[[-61.986060886982244, 46.46285569495182], ...  \n",
      "2   5.282471e+04  \"[[[[-60.890609893286005, 45.576858598311695],...  \n",
      "3   7.124850e+04  \"[[[[-66.90309091045383, 44.95715030411355], [...  \n",
      "4   1.298600e+06  \"[[[[-69.23754572462461, 59.16254229713314], [...  \n",
      "5   8.924118e+05  \"[[[[-95.15243423411964, 49.47010337015274], [...  \n",
      "6   5.403102e+05  \"[[[[-94.82807905269532, 60.00000013500728], [...  \n",
      "7   5.770604e+05  \"[[[[-102.00000001273872, 59.99999999808992], ...  \n",
      "8   6.346583e+05  \"[[[[-110.00502263037134, 48.99969874174207], ...  \n",
      "9   9.206866e+05  \"[[[[-128.01028134623553, 51.731984467598174],...  \n",
      "10  4.723454e+05  \"[[[[-139.1338782454991, 69.63737110990009], [...  \n",
      "11  1.127712e+06  \"[[[[-112.25839828281453, 70.36413459251668], ...  \n",
      "12  1.836994e+06  \"[[[[-64.14788492056661, 63.63604410412486], [...  \n"
     ]
    }
   ],
   "source": [
    "with engine.begin() as connection:\n",
    "    read_test = pd.read_sql(\"SELECT * FROM geo_areas WHERE geo_level = 'province' \", con=connection)\n",
    "print(read_test)"
   ]
  },
  {
   "cell_type": "code",
   "execution_count": 63,
   "id": "5901a075",
   "metadata": {},
   "outputs": [
    {
     "name": "stdout",
     "output_type": "stream",
     "text": [
      "       index            geo_level              dguid  pruid  geo_name  \\\n",
      "0       5467  dissemination areas  2021S051210010165   10.0  10010165   \n",
      "1       5468  dissemination areas  2021S051210010166   10.0  10010166   \n",
      "2       5469  dissemination areas  2021S051210010167   10.0  10010167   \n",
      "3       5470  dissemination areas  2021S051210010168   10.0  10010168   \n",
      "4       5471  dissemination areas  2021S051210010169   10.0  10010169   \n",
      "...      ...                  ...                ...    ...       ...   \n",
      "57927  63394  dissemination areas  2021S051262080024   62.0  62080024   \n",
      "57928  63395  dissemination areas  2021S051262080025   62.0  62080025   \n",
      "57929  63396  dissemination areas  2021S051262080026   62.0  62080026   \n",
      "57930  63397  dissemination areas  2021S051262080027   62.0  62080027   \n",
      "57931  63398  dissemination areas  2021S051262080028   62.0  62080028   \n",
      "\n",
      "       land_area                                        coordinates  \n",
      "0         0.3817  \"[[[[-52.77649809557013, 47.529242699356416], ...  \n",
      "1         0.0954  \"[[[[-52.771360084778074, 47.52698270361718], ...  \n",
      "2         0.1265  \"[[[[-52.77178299241905, 47.52770500763439], [...  \n",
      "3         0.1911  \"[[[[-52.76226658599423, 47.53273769961176], [...  \n",
      "4         0.0662  \"[[[[-52.772828095805, 47.531513103407654], [-...  \n",
      "...          ...                                                ...  \n",
      "57927     0.4006  \"[[[[-105.05405981986273, 69.11750490449948], ...  \n",
      "57928   287.3941  \"[[[[-115.35872402369571, 67.89705009935997], ...  \n",
      "57929   251.5981  \"[[[[-114.96838032582826, 67.82316429139676], ...  \n",
      "57930    24.6458  \"[[[[-95.81000050875214, 68.63218081169836], [...  \n",
      "57931     3.9004  \"[[[[-95.87868316808837, 68.62209798819873], [...  \n",
      "\n",
      "[57932 rows x 7 columns]\n"
     ]
    }
   ],
   "source": [
    "with engine.begin() as connection:\n",
    "    read_test_2 = pd.read_sql(\"SELECT * FROM geo_areas WHERE geo_level = 'dissemination areas'\", con=connection)\n",
    "print(read_test_2)"
   ]
  },
  {
   "cell_type": "code",
   "execution_count": 16,
   "id": "5aea84ea",
   "metadata": {},
   "outputs": [],
   "source": [
    "PROVINCE_DUMP = \"/Users/boristsao/Documents/Projects/canada-vis/data-exploration/upload/provinces_new.json\"\n",
    "with open(PROVINCE_DUMP, 'w', encoding='utf-8') as f:\n",
    "    json.dump(provinces, f, ensure_ascii=False, indent=4)"
   ]
  },
  {
   "cell_type": "markdown",
   "id": "3b0120a9",
   "metadata": {},
   "source": [
    "Work on Census Divisions"
   ]
  },
  {
   "cell_type": "code",
   "execution_count": 5,
   "id": "f0dab982",
   "metadata": {},
   "outputs": [],
   "source": [
    "JSON_PATH = '/Users/boristsao/Documents/Projects/canada-vis/data-exploration/geojson/censusDivisions.json'\n",
    "with open(JSON_PATH) as jsonfile:\n",
    "    censusDivisions = json.load(jsonfile)"
   ]
  },
  {
   "cell_type": "markdown",
   "id": "68634696",
   "metadata": {},
   "source": [
    "'CDUID' 'DGUID' 'CDNAME' 'LANDAREA' 'PRUID': '10'\n",
    "'CDUID' 'DGUID' 'CDNAME' 'CDTYPE' 'LANDAREA': 802.5226, 'PRUID': '24'"
   ]
  },
  {
   "cell_type": "code",
   "execution_count": 6,
   "id": "c2a6b1d2",
   "metadata": {},
   "outputs": [
    {
     "name": "stdout",
     "output_type": "stream",
     "text": [
      "{'CDUID': '1001', 'DGUID': '2021A00031001', 'LANDAREA': 9104.5799, 'PRUID': '10', 'geo_name': 'Division No.  1'}\n",
      "{'CDUID': '1002', 'DGUID': '2021A00031002', 'LANDAREA': 5915.5695, 'PRUID': '10', 'geo_name': 'Division No.  2'}\n",
      "{'CDUID': '1003', 'DGUID': '2021A00031003', 'LANDAREA': 19272.1069, 'PRUID': '10', 'geo_name': 'Division No.  3'}\n",
      "{'CDUID': '1004', 'DGUID': '2021A00031004', 'LANDAREA': 7019.9723, 'PRUID': '10', 'geo_name': 'Division No.  4'}\n",
      "{'CDUID': '1005', 'DGUID': '2021A00031005', 'LANDAREA': 10293.7618, 'PRUID': '10', 'geo_name': 'Division No.  5'}\n",
      "{'CDUID': '1006', 'DGUID': '2021A00031006', 'LANDAREA': 16043.3766, 'PRUID': '10', 'geo_name': 'Division No.  6'}\n",
      "{'CDUID': '1007', 'DGUID': '2021A00031007', 'LANDAREA': 9598.3701, 'PRUID': '10', 'geo_name': 'Division No.  7'}\n",
      "{'CDUID': '1008', 'DGUID': '2021A00031008', 'LANDAREA': 9234.9414, 'PRUID': '10', 'geo_name': 'Division No.  8'}\n",
      "{'CDUID': '1009', 'DGUID': '2021A00031009', 'LANDAREA': 13209.4758, 'PRUID': '10', 'geo_name': 'Division No.  9'}\n",
      "{'CDUID': '1010', 'DGUID': '2021A00031010', 'LANDAREA': 191691.0863, 'PRUID': '10', 'geo_name': 'Division No. 10'}\n",
      "{'CDUID': '1011', 'DGUID': '2021A00031011', 'LANDAREA': 66787.1326, 'PRUID': '10', 'geo_name': 'Division No. 11'}\n",
      "{'CDUID': '1101', 'DGUID': '2021A00031101', 'LANDAREA': 1687.583, 'PRUID': '11', 'geo_name': 'Kings'}\n",
      "{'CDUID': '1102', 'DGUID': '2021A00031102', 'LANDAREA': 1987.3246, 'PRUID': '11', 'geo_name': 'Queens'}\n",
      "{'CDUID': '1103', 'DGUID': '2021A00031103', 'LANDAREA': 2006.2714, 'PRUID': '11', 'geo_name': 'Prince'}\n",
      "{'CDUID': '1201', 'DGUID': '2021A00031201', 'LANDAREA': 2462.5818, 'PRUID': '12', 'geo_name': 'Shelburne'}\n",
      "{'CDUID': '1202', 'DGUID': '2021A00031202', 'LANDAREA': 2121.6393, 'PRUID': '12', 'geo_name': 'Yarmouth'}\n",
      "{'CDUID': '1203', 'DGUID': '2021A00031203', 'LANDAREA': 2512.2797, 'PRUID': '12', 'geo_name': 'Digby'}\n",
      "{'CDUID': '1204', 'DGUID': '2021A00031204', 'LANDAREA': 2393.4428, 'PRUID': '12', 'geo_name': 'Queens'}\n",
      "{'CDUID': '1205', 'DGUID': '2021A00031205', 'LANDAREA': 3183.2312, 'PRUID': '12', 'geo_name': 'Annapolis'}\n",
      "{'CDUID': '1206', 'DGUID': '2021A00031206', 'LANDAREA': 2906.4723, 'PRUID': '12', 'geo_name': 'Lunenburg'}\n",
      "{'CDUID': '1207', 'DGUID': '2021A00031207', 'LANDAREA': 2120.3124, 'PRUID': '12', 'geo_name': 'Kings'}\n",
      "{'CDUID': '1208', 'DGUID': '2021A00031208', 'LANDAREA': 3049.1776, 'PRUID': '12', 'geo_name': 'Hants'}\n",
      "{'CDUID': '1209', 'DGUID': '2021A00031209', 'LANDAREA': 5477.5348, 'PRUID': '12', 'geo_name': 'Halifax'}\n",
      "{'CDUID': '1210', 'DGUID': '2021A00031210', 'LANDAREA': 3627.4988, 'PRUID': '12', 'geo_name': 'Colchester'}\n",
      "{'CDUID': '1211', 'DGUID': '2021A00031211', 'LANDAREA': 4275.7721, 'PRUID': '12', 'geo_name': 'Cumberland'}\n",
      "{'CDUID': '1212', 'DGUID': '2021A00031212', 'LANDAREA': 2844.1033, 'PRUID': '12', 'geo_name': 'Pictou'}\n",
      "{'CDUID': '1213', 'DGUID': '2021A00031213', 'LANDAREA': 4037.1611, 'PRUID': '12', 'geo_name': 'Guysborough'}\n",
      "{'CDUID': '1214', 'DGUID': '2021A00031214', 'LANDAREA': 1456.4153, 'PRUID': '12', 'geo_name': 'Antigonish'}\n",
      "{'CDUID': '1215', 'DGUID': '2021A00031215', 'LANDAREA': 3817.6101, 'PRUID': '12', 'geo_name': 'Inverness'}\n",
      "{'CDUID': '1216', 'DGUID': '2021A00031216', 'LANDAREA': 1246.0753, 'PRUID': '12', 'geo_name': 'Richmond'}\n",
      "{'CDUID': '1217', 'DGUID': '2021A00031217', 'LANDAREA': 2457.2067, 'PRUID': '12', 'geo_name': 'Cape Breton'}\n",
      "{'CDUID': '1218', 'DGUID': '2021A00031218', 'LANDAREA': 2836.1939, 'PRUID': '12', 'geo_name': 'Victoria'}\n",
      "{'CDUID': '1301', 'DGUID': '2021A00031301', 'LANDAREA': 1461.0542, 'PRUID': '13', 'geo_name': 'Saint John'}\n",
      "{'CDUID': '1302', 'DGUID': '2021A00031302', 'LANDAREA': 3418.2366, 'PRUID': '13', 'geo_name': 'Charlotte'}\n",
      "{'CDUID': '1303', 'DGUID': '2021A00031303', 'LANDAREA': 2692.9674, 'PRUID': '13', 'geo_name': 'Sunbury'}\n",
      "{'CDUID': '1304', 'DGUID': '2021A00031304', 'LANDAREA': 3681.0533, 'PRUID': '13', 'geo_name': 'Queens'}\n",
      "{'CDUID': '1305', 'DGUID': '2021A00031305', 'LANDAREA': 3482.3488, 'PRUID': '13', 'geo_name': 'Kings'}\n",
      "{'CDUID': '1306', 'DGUID': '2021A00031306', 'LANDAREA': 1806.2276, 'PRUID': '13', 'geo_name': 'Albert'}\n",
      "{'CDUID': '1307', 'DGUID': '2021A00031307', 'LANDAREA': 3659.742, 'PRUID': '13', 'geo_name': 'Westmorland'}\n",
      "{'CDUID': '1308', 'DGUID': '2021A00031308', 'LANDAREA': 4550.3804, 'PRUID': '13', 'geo_name': 'Kent'}\n",
      "{'CDUID': '1309', 'DGUID': '2021A00031309', 'LANDAREA': 12843.3867, 'PRUID': '13', 'geo_name': 'Northumberland'}\n",
      "{'CDUID': '1310', 'DGUID': '2021A00031310', 'LANDAREA': 8095.104, 'PRUID': '13', 'geo_name': 'York'}\n",
      "{'CDUID': '1311', 'DGUID': '2021A00031311', 'LANDAREA': 3309.0591, 'PRUID': '13', 'geo_name': 'Carleton'}\n",
      "{'CDUID': '1312', 'DGUID': '2021A00031312', 'LANDAREA': 5492.8546, 'PRUID': '13', 'geo_name': 'Victoria'}\n",
      "{'CDUID': '1313', 'DGUID': '2021A00031313', 'LANDAREA': 3454.9673, 'PRUID': '13', 'geo_name': 'Madawaska'}\n",
      "{'CDUID': '1314', 'DGUID': '2021A00031314', 'LANDAREA': 8566.819, 'PRUID': '13', 'geo_name': 'Restigouche'}\n",
      "{'CDUID': '1315', 'DGUID': '2021A00031315', 'LANDAREA': 4734.2972, 'PRUID': '13', 'geo_name': 'Gloucester'}\n",
      "{'CDUID': '2401', 'DGUID': '2021A00032401', 'LANDAREA': 187.3321, 'PRUID': '24', 'geo_name': 'Communauté maritime des Îles-de-la-Madeleine'}\n",
      "{'CDUID': '2402', 'DGUID': '2021A00032402', 'LANDAREA': 3074.7998, 'PRUID': '24', 'geo_name': 'Le Rocher-Percé'}\n",
      "{'CDUID': '2403', 'DGUID': '2021A00032403', 'LANDAREA': 4088.3915, 'PRUID': '24', 'geo_name': 'La Côte-de-Gaspé'}\n",
      "{'CDUID': '2404', 'DGUID': '2021A00032404', 'LANDAREA': 5053.8784, 'PRUID': '24', 'geo_name': 'La Haute-Gaspésie'}\n",
      "{'CDUID': '2405', 'DGUID': '2021A00032405', 'LANDAREA': 4379.4623, 'PRUID': '24', 'geo_name': 'Bonaventure'}\n",
      "{'CDUID': '2406', 'DGUID': '2021A00032406', 'LANDAREA': 3487.3729, 'PRUID': '24', 'geo_name': 'Avignon'}\n",
      "{'CDUID': '2407', 'DGUID': '2021A00032407', 'LANDAREA': 5354.5318, 'PRUID': '24', 'geo_name': 'La Matapédia'}\n",
      "{'CDUID': '2408', 'DGUID': '2021A00032408', 'LANDAREA': 3315.7355, 'PRUID': '24', 'geo_name': 'La Matanie'}\n",
      "{'CDUID': '2409', 'DGUID': '2021A00032409', 'LANDAREA': 2275.5604, 'PRUID': '24', 'geo_name': 'La Mitis'}\n",
      "{'CDUID': '2410', 'DGUID': '2021A00032410', 'LANDAREA': 2703.9941, 'PRUID': '24', 'geo_name': 'Rimouski-Neigette'}\n",
      "{'CDUID': '2411', 'DGUID': '2021A00032411', 'LANDAREA': 1120.0319, 'PRUID': '24', 'geo_name': 'Les Basques'}\n",
      "{'CDUID': '2412', 'DGUID': '2021A00032412', 'LANDAREA': 1276.8643, 'PRUID': '24', 'geo_name': 'Rivière-du-Loup'}\n",
      "{'CDUID': '2413', 'DGUID': '2021A00032413', 'LANDAREA': 3900.4163, 'PRUID': '24', 'geo_name': 'Témiscouata'}\n",
      "{'CDUID': '2414', 'DGUID': '2021A00032414', 'LANDAREA': 2241.054, 'PRUID': '24', 'geo_name': 'Kamouraska'}\n",
      "{'CDUID': '2415', 'DGUID': '2021A00032415', 'LANDAREA': 2288.9697, 'PRUID': '24', 'geo_name': 'Charlevoix-Est'}\n",
      "{'CDUID': '2416', 'DGUID': '2021A00032416', 'LANDAREA': 3736.8012, 'PRUID': '24', 'geo_name': 'Charlevoix'}\n",
      "{'CDUID': '2417', 'DGUID': '2021A00032417', 'LANDAREA': 2097.0905, 'PRUID': '24', 'geo_name': \"L'Islet\"}\n",
      "{'CDUID': '2418', 'DGUID': '2021A00032418', 'LANDAREA': 1695.0914, 'PRUID': '24', 'geo_name': 'Montmagny'}\n",
      "{'CDUID': '2419', 'DGUID': '2021A00032419', 'LANDAREA': 1749.9098, 'PRUID': '24', 'geo_name': 'Bellechasse'}\n",
      "{'CDUID': '2420', 'DGUID': '2021A00032420', 'LANDAREA': 194.5824, 'PRUID': '24', 'geo_name': \"L'Île-d'Orléans\"}\n",
      "{'CDUID': '2421', 'DGUID': '2021A00032421', 'LANDAREA': 4845.1949, 'PRUID': '24', 'geo_name': 'La Côte-de-Beaupré'}\n",
      "{'CDUID': '2422', 'DGUID': '2021A00032422', 'LANDAREA': 3183.7546, 'PRUID': '24', 'geo_name': 'La Jacques-Cartier'}\n",
      "{'CDUID': '2423', 'DGUID': '2021A00032423', 'LANDAREA': 547.6002, 'PRUID': '24', 'geo_name': 'Québec'}\n",
      "{'CDUID': '2425', 'DGUID': '2021A00032425', 'LANDAREA': 448.0654, 'PRUID': '24', 'geo_name': 'Lévis'}\n",
      "{'CDUID': '2426', 'DGUID': '2021A00032426', 'LANDAREA': 905.3295, 'PRUID': '24', 'geo_name': 'La Nouvelle-Beauce'}\n",
      "{'CDUID': '2427', 'DGUID': '2021A00032427', 'LANDAREA': 839.5958, 'PRUID': '24', 'geo_name': 'Robert-Cliche'}\n",
      "{'CDUID': '2428', 'DGUID': '2021A00032428', 'LANDAREA': 1809.61, 'PRUID': '24', 'geo_name': 'Les Etchemins'}\n",
      "{'CDUID': '2429', 'DGUID': '2021A00032429', 'LANDAREA': 1952.7326, 'PRUID': '24', 'geo_name': 'Beauce-Sartigan'}\n",
      "{'CDUID': '2430', 'DGUID': '2021A00032430', 'LANDAREA': 2731.547, 'PRUID': '24', 'geo_name': 'Le Granit'}\n",
      "{'CDUID': '2431', 'DGUID': '2021A00032431', 'LANDAREA': 1911.8255, 'PRUID': '24', 'geo_name': 'Les Appalaches'}\n",
      "{'CDUID': '2432', 'DGUID': '2021A00032432', 'LANDAREA': 1287.0317, 'PRUID': '24', 'geo_name': \"L'Érable\"}\n",
      "{'CDUID': '2433', 'DGUID': '2021A00032433', 'LANDAREA': 1662.2561, 'PRUID': '24', 'geo_name': 'Lotbinière'}\n",
      "{'CDUID': '2434', 'DGUID': '2021A00032434', 'LANDAREA': 3887.8803, 'PRUID': '24', 'geo_name': 'Portneuf'}\n",
      "{'CDUID': '2435', 'DGUID': '2021A00032435', 'LANDAREA': 5186.2187, 'PRUID': '24', 'geo_name': 'Mékinac'}\n",
      "{'CDUID': '2436', 'DGUID': '2021A00032436', 'LANDAREA': 729.9827, 'PRUID': '24', 'geo_name': 'Shawinigan'}\n",
      "{'CDUID': '2437', 'DGUID': '2021A00032437', 'LANDAREA': 1160.6678, 'PRUID': '24', 'geo_name': 'Francheville'}\n",
      "{'CDUID': '2438', 'DGUID': '2021A00032438', 'LANDAREA': 1143.1269, 'PRUID': '24', 'geo_name': 'Bécancour'}\n",
      "{'CDUID': '2439', 'DGUID': '2021A00032439', 'LANDAREA': 1887.088, 'PRUID': '24', 'geo_name': 'Arthabaska'}\n",
      "{'CDUID': '2440', 'DGUID': '2021A00032440', 'LANDAREA': 785.4182, 'PRUID': '24', 'geo_name': 'Les Sources'}\n",
      "{'CDUID': '2441', 'DGUID': '2021A00032441', 'LANDAREA': 2269.6818, 'PRUID': '24', 'geo_name': 'Le Haut-Saint-François'}\n",
      "{'CDUID': '2442', 'DGUID': '2021A00032442', 'LANDAREA': 1401.5591, 'PRUID': '24', 'geo_name': 'Le Val-Saint-François'}\n",
      "{'CDUID': '2443', 'DGUID': '2021A00032443', 'LANDAREA': 353.3966, 'PRUID': '24', 'geo_name': 'Sherbrooke'}\n",
      "{'CDUID': '2444', 'DGUID': '2021A00032444', 'LANDAREA': 1338.8627, 'PRUID': '24', 'geo_name': 'Coaticook'}\n",
      "{'CDUID': '2445', 'DGUID': '2021A00032445', 'LANDAREA': 1317.4186, 'PRUID': '24', 'geo_name': 'Memphrémagog'}\n",
      "{'CDUID': '2446', 'DGUID': '2021A00032446', 'LANDAREA': 1650.1952, 'PRUID': '24', 'geo_name': 'Brome-Missisquoi'}\n",
      "{'CDUID': '2447', 'DGUID': '2021A00032447', 'LANDAREA': 636.0029, 'PRUID': '24', 'geo_name': 'La Haute-Yamaska'}\n",
      "{'CDUID': '2448', 'DGUID': '2021A00032448', 'LANDAREA': 579.6411, 'PRUID': '24', 'geo_name': 'Acton'}\n",
      "{'CDUID': '2449', 'DGUID': '2021A00032449', 'LANDAREA': 1599.0957, 'PRUID': '24', 'geo_name': 'Drummond'}\n",
      "{'CDUID': '2450', 'DGUID': '2021A00032450', 'LANDAREA': 1004.9793, 'PRUID': '24', 'geo_name': 'Nicolet-Yamaska'}\n",
      "{'CDUID': '2451', 'DGUID': '2021A00032451', 'LANDAREA': 2367.0819, 'PRUID': '24', 'geo_name': 'Maskinongé'}\n",
      "{'CDUID': '2452', 'DGUID': '2021A00032452', 'LANDAREA': 1234.6682, 'PRUID': '24', 'geo_name': \"D'Autray\"}\n",
      "{'CDUID': '2453', 'DGUID': '2021A00032453', 'LANDAREA': 595.1327, 'PRUID': '24', 'geo_name': 'Pierre-De Saurel'}\n",
      "{'CDUID': '2454', 'DGUID': '2021A00032454', 'LANDAREA': 1302.1548, 'PRUID': '24', 'geo_name': 'Les Maskoutains'}\n",
      "{'CDUID': '2455', 'DGUID': '2021A00032455', 'LANDAREA': 482.8048, 'PRUID': '24', 'geo_name': 'Rouville'}\n",
      "{'CDUID': '2456', 'DGUID': '2021A00032456', 'LANDAREA': 934.8475, 'PRUID': '24', 'geo_name': 'Le Haut-Richelieu'}\n",
      "{'CDUID': '2457', 'DGUID': '2021A00032457', 'LANDAREA': 587.8402, 'PRUID': '24', 'geo_name': 'La Vallée-du-Richelieu'}\n",
      "{'CDUID': '2458', 'DGUID': '2021A00032458', 'LANDAREA': 282.391, 'PRUID': '24', 'geo_name': 'Longueuil'}\n",
      "{'CDUID': '2459', 'DGUID': '2021A00032459', 'LANDAREA': 347.0968, 'PRUID': '24', 'geo_name': \"Marguerite-D'Youville\"}\n",
      "{'CDUID': '2460', 'DGUID': '2021A00032460', 'LANDAREA': 255.1595, 'PRUID': '24', 'geo_name': \"L'Assomption\"}\n",
      "{'CDUID': '2461', 'DGUID': '2021A00032461', 'LANDAREA': 417.4056, 'PRUID': '24', 'geo_name': 'Joliette'}\n",
      "{'CDUID': '2462', 'DGUID': '2021A00032462', 'LANDAREA': 9423.1539, 'PRUID': '24', 'geo_name': 'Matawinie'}\n",
      "{'CDUID': '2463', 'DGUID': '2021A00032463', 'LANDAREA': 709.5777, 'PRUID': '24', 'geo_name': 'Montcalm'}\n",
      "{'CDUID': '2464', 'DGUID': '2021A00032464', 'LANDAREA': 260.6513, 'PRUID': '24', 'geo_name': 'Les Moulins'}\n",
      "{'CDUID': '2465', 'DGUID': '2021A00032465', 'LANDAREA': 246.1349, 'PRUID': '24', 'geo_name': 'Laval'}\n",
      "{'CDUID': '2466', 'DGUID': '2021A00032466', 'LANDAREA': 498.292, 'PRUID': '24', 'geo_name': 'Montréal'}\n",
      "{'CDUID': '2467', 'DGUID': '2021A00032467', 'LANDAREA': 420.4418, 'PRUID': '24', 'geo_name': 'Roussillon'}\n",
      "{'CDUID': '2468', 'DGUID': '2021A00032468', 'LANDAREA': 802.5226, 'PRUID': '24', 'geo_name': 'Les Jardins-de-Napierville'}\n",
      "{'CDUID': '2469', 'DGUID': '2021A00032469', 'LANDAREA': 1168.0801, 'PRUID': '24', 'geo_name': 'Le Haut-Saint-Laurent'}\n",
      "{'CDUID': '2470', 'DGUID': '2021A00032470', 'LANDAREA': 468.4811, 'PRUID': '24', 'geo_name': 'Beauharnois-Salaberry'}\n",
      "{'CDUID': '2471', 'DGUID': '2021A00032471', 'LANDAREA': 854.1878, 'PRUID': '24', 'geo_name': 'Vaudreuil-Soulanges'}\n",
      "{'CDUID': '2472', 'DGUID': '2021A00032472', 'LANDAREA': 242.875, 'PRUID': '24', 'geo_name': 'Deux-Montagnes'}\n",
      "{'CDUID': '2473', 'DGUID': '2021A00032473', 'LANDAREA': 206.5189, 'PRUID': '24', 'geo_name': 'Thérèse-De Blainville'}\n",
      "{'CDUID': '2474', 'DGUID': '2021A00032474', 'LANDAREA': 484.0947, 'PRUID': '24', 'geo_name': 'Mirabel'}\n",
      "{'CDUID': '2475', 'DGUID': '2021A00032475', 'LANDAREA': 447.8784, 'PRUID': '24', 'geo_name': 'La Rivière-du-Nord'}\n",
      "{'CDUID': '2476', 'DGUID': '2021A00032476', 'LANDAREA': 1234.6887, 'PRUID': '24', 'geo_name': 'Argenteuil'}\n",
      "{'CDUID': '2477', 'DGUID': '2021A00032477', 'LANDAREA': 673.9827, 'PRUID': '24', 'geo_name': \"Les Pays-d'en-Haut\"}\n",
      "{'CDUID': '2478', 'DGUID': '2021A00032478', 'LANDAREA': 2457.5275, 'PRUID': '24', 'geo_name': 'Les Laurentides'}\n",
      "{'CDUID': '2479', 'DGUID': '2021A00032479', 'LANDAREA': 14809.8521, 'PRUID': '24', 'geo_name': 'Antoine-Labelle'}\n",
      "{'CDUID': '2480', 'DGUID': '2021A00032480', 'LANDAREA': 2903.4469, 'PRUID': '24', 'geo_name': 'Papineau'}\n",
      "{'CDUID': '2481', 'DGUID': '2021A00032481', 'LANDAREA': 341.8414, 'PRUID': '24', 'geo_name': 'Gatineau'}\n",
      "{'CDUID': '2482', 'DGUID': '2021A00032482', 'LANDAREA': 2025.3754, 'PRUID': '24', 'geo_name': \"Les Collines-de-l'Outaouais\"}\n",
      "{'CDUID': '2483', 'DGUID': '2021A00032483', 'LANDAREA': 12362.4898, 'PRUID': '24', 'geo_name': 'La Vallée-de-la-Gatineau'}\n",
      "{'CDUID': '2484', 'DGUID': '2021A00032484', 'LANDAREA': 12824.3648, 'PRUID': '24', 'geo_name': 'Pontiac'}\n",
      "{'CDUID': '2485', 'DGUID': '2021A00032485', 'LANDAREA': 16327.2561, 'PRUID': '24', 'geo_name': 'Témiscamingue'}\n",
      "{'CDUID': '2486', 'DGUID': '2021A00032486', 'LANDAREA': 5963.5671, 'PRUID': '24', 'geo_name': 'Rouyn-Noranda'}\n",
      "{'CDUID': '2487', 'DGUID': '2021A00032487', 'LANDAREA': 3312.45, 'PRUID': '24', 'geo_name': 'Abitibi-Ouest'}\n",
      "{'CDUID': '2488', 'DGUID': '2021A00032488', 'LANDAREA': 7627.6313, 'PRUID': '24', 'geo_name': 'Abitibi'}\n",
      "{'CDUID': '2489', 'DGUID': '2021A00032489', 'LANDAREA': 24094.8403, 'PRUID': '24', 'geo_name': \"La Vallée-de-l'Or\"}\n",
      "{'CDUID': '2490', 'DGUID': '2021A00032490', 'LANDAREA': 26031.8442, 'PRUID': '24', 'geo_name': 'La Tuque'}\n",
      "{'CDUID': '2491', 'DGUID': '2021A00032491', 'LANDAREA': 17476.4467, 'PRUID': '24', 'geo_name': 'Le Domaine-du-Roy'}\n",
      "{'CDUID': '2492', 'DGUID': '2021A00032492', 'LANDAREA': 35501.4881, 'PRUID': '24', 'geo_name': 'Maria-Chapdelaine'}\n",
      "{'CDUID': '2493', 'DGUID': '2021A00032493', 'LANDAREA': 2767.5138, 'PRUID': '24', 'geo_name': 'Lac-Saint-Jean-Est'}\n",
      "{'CDUID': '2494', 'DGUID': '2021A00032494', 'LANDAREA': 39797.2467, 'PRUID': '24', 'geo_name': 'Le Saguenay-et-son-Fjord'}\n",
      "{'CDUID': '2495', 'DGUID': '2021A00032495', 'LANDAREA': 11295.8159, 'PRUID': '24', 'geo_name': 'La Haute-Côte-Nord'}\n",
      "{'CDUID': '2496', 'DGUID': '2021A00032496', 'LANDAREA': 34655.044, 'PRUID': '24', 'geo_name': 'Manicouagan'}\n",
      "{'CDUID': '2497', 'DGUID': '2021A00032497', 'LANDAREA': 94464.3471, 'PRUID': '24', 'geo_name': 'Sept-Rivières--Caniapiscau'}\n",
      "{'CDUID': '2498', 'DGUID': '2021A00032498', 'LANDAREA': 94027.0662, 'PRUID': '24', 'geo_name': 'Minganie--Le Golfe-du-Saint-Laurent'}\n",
      "{'CDUID': '2499', 'DGUID': '2021A00032499', 'LANDAREA': 707306.5187, 'PRUID': '24', 'geo_name': 'Nord-du-Québec'}\n",
      "{'CDUID': '3501', 'DGUID': '2021A00033501', 'LANDAREA': 3308.8535, 'PRUID': '35', 'geo_name': 'Stormont, Dundas and Glengarry'}\n",
      "{'CDUID': '3502', 'DGUID': '2021A00033502', 'LANDAREA': 2004.2668, 'PRUID': '35', 'geo_name': 'Prescott and Russell'}\n",
      "{'CDUID': '3506', 'DGUID': '2021A00033506', 'LANDAREA': 2788.1967, 'PRUID': '35', 'geo_name': 'Ottawa'}\n",
      "{'CDUID': '3507', 'DGUID': '2021A00033507', 'LANDAREA': 3355.6075, 'PRUID': '35', 'geo_name': 'Leeds and Grenville'}\n",
      "{'CDUID': '3509', 'DGUID': '2021A00033509', 'LANDAREA': 2986.7079, 'PRUID': '35', 'geo_name': 'Lanark'}\n",
      "{'CDUID': '3510', 'DGUID': '2021A00033510', 'LANDAREA': 3725.8224, 'PRUID': '35', 'geo_name': 'Frontenac'}\n",
      "{'CDUID': '3511', 'DGUID': '2021A00033511', 'LANDAREA': 2792.7204, 'PRUID': '35', 'geo_name': 'Lennox and Addington'}\n",
      "{'CDUID': '3512', 'DGUID': '2021A00033512', 'LANDAREA': 6013.3517, 'PRUID': '35', 'geo_name': 'Hastings'}\n",
      "{'CDUID': '3513', 'DGUID': '2021A00033513', 'LANDAREA': 1052.6069, 'PRUID': '35', 'geo_name': 'Prince Edward'}\n",
      "{'CDUID': '3514', 'DGUID': '2021A00033514', 'LANDAREA': 1907.3955, 'PRUID': '35', 'geo_name': 'Northumberland'}\n",
      "{'CDUID': '3515', 'DGUID': '2021A00033515', 'LANDAREA': 3779.473, 'PRUID': '35', 'geo_name': 'Peterborough'}\n",
      "{'CDUID': '3516', 'DGUID': '2021A00033516', 'LANDAREA': 3033.6565, 'PRUID': '35', 'geo_name': 'Kawartha Lakes'}\n",
      "{'CDUID': '3518', 'DGUID': '2021A00033518', 'LANDAREA': 2521.1075, 'PRUID': '35', 'geo_name': 'Durham'}\n",
      "{'CDUID': '3519', 'DGUID': '2021A00033519', 'LANDAREA': 1758.2704, 'PRUID': '35', 'geo_name': 'York'}\n",
      "{'CDUID': '3520', 'DGUID': '2021A00033520', 'LANDAREA': 631.0983, 'PRUID': '35', 'geo_name': 'Toronto'}\n",
      "{'CDUID': '3521', 'DGUID': '2021A00033521', 'LANDAREA': 1247.4494, 'PRUID': '35', 'geo_name': 'Peel'}\n",
      "{'CDUID': '3522', 'DGUID': '2021A00033522', 'LANDAREA': 1486.7709, 'PRUID': '35', 'geo_name': 'Dufferin'}\n",
      "{'CDUID': '3523', 'DGUID': '2021A00033523', 'LANDAREA': 2665.361, 'PRUID': '35', 'geo_name': 'Wellington'}\n",
      "{'CDUID': '3524', 'DGUID': '2021A00033524', 'LANDAREA': 965.7063, 'PRUID': '35', 'geo_name': 'Halton'}\n",
      "{'CDUID': '3525', 'DGUID': '2021A00033525', 'LANDAREA': 1118.3101, 'PRUID': '35', 'geo_name': 'Hamilton'}\n",
      "{'CDUID': '3526', 'DGUID': '2021A00033526', 'LANDAREA': 1852.816, 'PRUID': '35', 'geo_name': 'Niagara'}\n",
      "{'CDUID': '3528', 'DGUID': '2021A00033528', 'LANDAREA': 2883.8041, 'PRUID': '35', 'geo_name': 'Haldimand-Norfolk'}\n",
      "{'CDUID': '3529', 'DGUID': '2021A00033529', 'LANDAREA': 1094.1008, 'PRUID': '35', 'geo_name': 'Brant'}\n",
      "{'CDUID': '3530', 'DGUID': '2021A00033530', 'LANDAREA': 1370.066, 'PRUID': '35', 'geo_name': 'Waterloo'}\n",
      "{'CDUID': '3531', 'DGUID': '2021A00033531', 'LANDAREA': 2218.2434, 'PRUID': '35', 'geo_name': 'Perth'}\n",
      "{'CDUID': '3532', 'DGUID': '2021A00033532', 'LANDAREA': 2038.1811, 'PRUID': '35', 'geo_name': 'Oxford'}\n",
      "{'CDUID': '3534', 'DGUID': '2021A00033534', 'LANDAREA': 1878.5651, 'PRUID': '35', 'geo_name': 'Elgin'}\n",
      "{'CDUID': '3536', 'DGUID': '2021A00033536', 'LANDAREA': 2464.5252, 'PRUID': '35', 'geo_name': 'Chatham-Kent'}\n",
      "{'CDUID': '3537', 'DGUID': '2021A00033537', 'LANDAREA': 1844.2076, 'PRUID': '35', 'geo_name': 'Essex'}\n",
      "{'CDUID': '3538', 'DGUID': '2021A00033538', 'LANDAREA': 2999.9277, 'PRUID': '35', 'geo_name': 'Lambton'}\n",
      "{'CDUID': '3539', 'DGUID': '2021A00033539', 'LANDAREA': 3317.7623, 'PRUID': '35', 'geo_name': 'Middlesex'}\n",
      "{'CDUID': '3540', 'DGUID': '2021A00033540', 'LANDAREA': 3398.2798, 'PRUID': '35', 'geo_name': 'Huron'}\n",
      "{'CDUID': '3541', 'DGUID': '2021A00033541', 'LANDAREA': 4076.2211, 'PRUID': '35', 'geo_name': 'Bruce'}\n",
      "{'CDUID': '3542', 'DGUID': '2021A00033542', 'LANDAREA': 4497.9271, 'PRUID': '35', 'geo_name': 'Grey'}\n",
      "{'CDUID': '3543', 'DGUID': '2021A00033543', 'LANDAREA': 4818.9317, 'PRUID': '35', 'geo_name': 'Simcoe'}\n",
      "{'CDUID': '3544', 'DGUID': '2021A00033544', 'LANDAREA': 3839.4716, 'PRUID': '35', 'geo_name': 'Muskoka'}\n",
      "{'CDUID': '3546', 'DGUID': '2021A00033546', 'LANDAREA': 4009.4692, 'PRUID': '35', 'geo_name': 'Haliburton'}\n",
      "{'CDUID': '3547', 'DGUID': '2021A00033547', 'LANDAREA': 7357.9375, 'PRUID': '35', 'geo_name': 'Renfrew'}\n",
      "{'CDUID': '3548', 'DGUID': '2021A00033548', 'LANDAREA': 16986.1979, 'PRUID': '35', 'geo_name': 'Nipissing'}\n",
      "{'CDUID': '3549', 'DGUID': '2021A00033549', 'LANDAREA': 9113.9209, 'PRUID': '35', 'geo_name': 'Parry Sound'}\n",
      "{'CDUID': '3551', 'DGUID': '2021A00033551', 'LANDAREA': 3073.5384, 'PRUID': '35', 'geo_name': 'Manitoulin'}\n",
      "{'CDUID': '3552', 'DGUID': '2021A00033552', 'LANDAREA': 39896.7886, 'PRUID': '35', 'geo_name': 'Sudbury'}\n",
      "{'CDUID': '3553', 'DGUID': '2021A00033553', 'LANDAREA': 3196.8515, 'PRUID': '35', 'geo_name': 'Greater Sudbury / Grand Sudbury'}\n",
      "{'CDUID': '3554', 'DGUID': '2021A00033554', 'LANDAREA': 13247.4013, 'PRUID': '35', 'geo_name': 'Timiskaming'}\n",
      "{'CDUID': '3556', 'DGUID': '2021A00033556', 'LANDAREA': 139784.0277, 'PRUID': '35', 'geo_name': 'Cochrane'}\n",
      "{'CDUID': '3557', 'DGUID': '2021A00033557', 'LANDAREA': 48281.364, 'PRUID': '35', 'geo_name': 'Algoma'}\n",
      "{'CDUID': '3558', 'DGUID': '2021A00033558', 'LANDAREA': 102895.4821, 'PRUID': '35', 'geo_name': 'Thunder Bay'}\n",
      "{'CDUID': '3559', 'DGUID': '2021A00033559', 'LANDAREA': 15400.9494, 'PRUID': '35', 'geo_name': 'Rainy River'}\n",
      "{'CDUID': '3560', 'DGUID': '2021A00033560', 'LANDAREA': 395432.0708, 'PRUID': '35', 'geo_name': 'Kenora'}\n",
      "{'CDUID': '4601', 'DGUID': '2021A00034601', 'LANDAREA': 14801.9514, 'PRUID': '46', 'geo_name': 'Division No.  1'}\n",
      "{'CDUID': '4602', 'DGUID': '2021A00034602', 'LANDAREA': 4420.9342, 'PRUID': '46', 'geo_name': 'Division No.  2'}\n",
      "{'CDUID': '4603', 'DGUID': '2021A00034603', 'LANDAREA': 5285.6468, 'PRUID': '46', 'geo_name': 'Division No.  3'}\n",
      "{'CDUID': '4604', 'DGUID': '2021A00034604', 'LANDAREA': 4489.2241, 'PRUID': '46', 'geo_name': 'Division No.  4'}\n",
      "{'CDUID': '4605', 'DGUID': '2021A00034605', 'LANDAREA': 8282.3784, 'PRUID': '46', 'geo_name': 'Division No.  5'}\n",
      "{'CDUID': '4606', 'DGUID': '2021A00034606', 'LANDAREA': 4024.1483, 'PRUID': '46', 'geo_name': 'Division No.  6'}\n",
      "{'CDUID': '4607', 'DGUID': '2021A00034607', 'LANDAREA': 6333.2089, 'PRUID': '46', 'geo_name': 'Division No.  7'}\n",
      "{'CDUID': '4608', 'DGUID': '2021A00034608', 'LANDAREA': 5843.8732, 'PRUID': '46', 'geo_name': 'Division No.  8'}\n",
      "{'CDUID': '4609', 'DGUID': '2021A00034609', 'LANDAREA': 3009.1729, 'PRUID': '46', 'geo_name': 'Division No.  9'}\n",
      "{'CDUID': '4610', 'DGUID': '2021A00034610', 'LANDAREA': 1914.1924, 'PRUID': '46', 'geo_name': 'Division No. 10'}\n",
      "{'CDUID': '4611', 'DGUID': '2021A00034611', 'LANDAREA': 569.3081, 'PRUID': '46', 'geo_name': 'Division No. 11'}\n",
      "{'CDUID': '4612', 'DGUID': '2021A00034612', 'LANDAREA': 1851.2792, 'PRUID': '46', 'geo_name': 'Division No. 12'}\n",
      "{'CDUID': '4613', 'DGUID': '2021A00034613', 'LANDAREA': 1662.2781, 'PRUID': '46', 'geo_name': 'Division No. 13'}\n",
      "{'CDUID': '4614', 'DGUID': '2021A00034614', 'LANDAREA': 2833.4059, 'PRUID': '46', 'geo_name': 'Division No. 14'}\n",
      "{'CDUID': '4615', 'DGUID': '2021A00034615', 'LANDAREA': 8744.5064, 'PRUID': '46', 'geo_name': 'Division No. 15'}\n",
      "{'CDUID': '4616', 'DGUID': '2021A00034616', 'LANDAREA': 4706.8256, 'PRUID': '46', 'geo_name': 'Division No. 16'}\n",
      "{'CDUID': '4617', 'DGUID': '2021A00034617', 'LANDAREA': 13630.5421, 'PRUID': '46', 'geo_name': 'Division No. 17'}\n",
      "{'CDUID': '4618', 'DGUID': '2021A00034618', 'LANDAREA': 11362.4446, 'PRUID': '46', 'geo_name': 'Division No. 18'}\n",
      "{'CDUID': '4619', 'DGUID': '2021A00034619', 'LANDAREA': 60536.434, 'PRUID': '46', 'geo_name': 'Division No. 19'}\n",
      "{'CDUID': '4620', 'DGUID': '2021A00034620', 'LANDAREA': 9825.7855, 'PRUID': '46', 'geo_name': 'Division No. 20'}\n",
      "{'CDUID': '4621', 'DGUID': '2021A00034621', 'LANDAREA': 42801.189, 'PRUID': '46', 'geo_name': 'Division No. 21'}\n",
      "{'CDUID': '4622', 'DGUID': '2021A00034622', 'LANDAREA': 89802.8195, 'PRUID': '46', 'geo_name': 'Division No. 22'}\n",
      "{'CDUID': '4623', 'DGUID': '2021A00034623', 'LANDAREA': 233578.6401, 'PRUID': '46', 'geo_name': 'Division No. 23'}\n",
      "{'CDUID': '4701', 'DGUID': '2021A00034701', 'LANDAREA': 14654.346, 'PRUID': '47', 'geo_name': 'Division No.  1'}\n",
      "{'CDUID': '4702', 'DGUID': '2021A00034702', 'LANDAREA': 16535.8761, 'PRUID': '47', 'geo_name': 'Division No.  2'}\n",
      "{'CDUID': '4703', 'DGUID': '2021A00034703', 'LANDAREA': 18319.1216, 'PRUID': '47', 'geo_name': 'Division No.  3'}\n",
      "{'CDUID': '4704', 'DGUID': '2021A00034704', 'LANDAREA': 21149.4466, 'PRUID': '47', 'geo_name': 'Division No.  4'}\n",
      "{'CDUID': '4705', 'DGUID': '2021A00034705', 'LANDAREA': 14441.6535, 'PRUID': '47', 'geo_name': 'Division No.  5'}\n",
      "{'CDUID': '4706', 'DGUID': '2021A00034706', 'LANDAREA': 17363.0414, 'PRUID': '47', 'geo_name': 'Division No.  6'}\n",
      "{'CDUID': '4707', 'DGUID': '2021A00034707', 'LANDAREA': 18707.3723, 'PRUID': '47', 'geo_name': 'Division No.  7'}\n",
      "{'CDUID': '4708', 'DGUID': '2021A00034708', 'LANDAREA': 22356.9062, 'PRUID': '47', 'geo_name': 'Division No.  8'}\n",
      "{'CDUID': '4709', 'DGUID': '2021A00034709', 'LANDAREA': 14851.2608, 'PRUID': '47', 'geo_name': 'Division No.  9'}\n",
      "{'CDUID': '4710', 'DGUID': '2021A00034710', 'LANDAREA': 11922.3345, 'PRUID': '47', 'geo_name': 'Division No. 10'}\n",
      "{'CDUID': '4711', 'DGUID': '2021A00034711', 'LANDAREA': 16602.5803, 'PRUID': '47', 'geo_name': 'Division No. 11'}\n",
      "{'CDUID': '4712', 'DGUID': '2021A00034712', 'LANDAREA': 13788.2243, 'PRUID': '47', 'geo_name': 'Division No. 12'}\n",
      "{'CDUID': '4713', 'DGUID': '2021A00034713', 'LANDAREA': 17182.1239, 'PRUID': '47', 'geo_name': 'Division No. 13'}\n",
      "{'CDUID': '4714', 'DGUID': '2021A00034714', 'LANDAREA': 33676.061, 'PRUID': '47', 'geo_name': 'Division No. 14'}\n",
      "{'CDUID': '4715', 'DGUID': '2021A00034715', 'LANDAREA': 19399.0292, 'PRUID': '47', 'geo_name': 'Division No. 15'}\n",
      "{'CDUID': '4716', 'DGUID': '2021A00034716', 'LANDAREA': 21607.4191, 'PRUID': '47', 'geo_name': 'Division No. 16'}\n",
      "{'CDUID': '4717', 'DGUID': '2021A00034717', 'LANDAREA': 22222.6674, 'PRUID': '47', 'geo_name': 'Division No. 17'}\n",
      "{'CDUID': '4718', 'DGUID': '2021A00034718', 'LANDAREA': 262280.9401, 'PRUID': '47', 'geo_name': 'Division No. 18'}\n",
      "{'CDUID': '4801', 'DGUID': '2021A00034801', 'LANDAREA': 20277.5235, 'PRUID': '48', 'geo_name': 'Division No.  1'}\n",
      "{'CDUID': '4802', 'DGUID': '2021A00034802', 'LANDAREA': 17456.3337, 'PRUID': '48', 'geo_name': 'Division No.  2'}\n",
      "{'CDUID': '4803', 'DGUID': '2021A00034803', 'LANDAREA': 13725.0719, 'PRUID': '48', 'geo_name': 'Division No.  3'}\n",
      "{'CDUID': '4804', 'DGUID': '2021A00034804', 'LANDAREA': 21055.2056, 'PRUID': '48', 'geo_name': 'Division No.  4'}\n",
      "{'CDUID': '4805', 'DGUID': '2021A00034805', 'LANDAREA': 16651.2279, 'PRUID': '48', 'geo_name': 'Division No.  5'}\n",
      "{'CDUID': '4806', 'DGUID': '2021A00034806', 'LANDAREA': 12614.175, 'PRUID': '48', 'geo_name': 'Division No.  6'}\n",
      "{'CDUID': '4807', 'DGUID': '2021A00034807', 'LANDAREA': 18909.6592, 'PRUID': '48', 'geo_name': 'Division No.  7'}\n",
      "{'CDUID': '4808', 'DGUID': '2021A00034808', 'LANDAREA': 9890.0547, 'PRUID': '48', 'geo_name': 'Division No.  8'}\n",
      "{'CDUID': '4809', 'DGUID': '2021A00034809', 'LANDAREA': 18834.925, 'PRUID': '48', 'geo_name': 'Division No.  9'}\n",
      "{'CDUID': '4810', 'DGUID': '2021A00034810', 'LANDAREA': 20134.1246, 'PRUID': '48', 'geo_name': 'Division No. 10'}\n",
      "{'CDUID': '4811', 'DGUID': '2021A00034811', 'LANDAREA': 15746.4155, 'PRUID': '48', 'geo_name': 'Division No. 11'}\n",
      "{'CDUID': '4812', 'DGUID': '2021A00034812', 'LANDAREA': 31816.8578, 'PRUID': '48', 'geo_name': 'Division No. 12'}\n",
      "{'CDUID': '4813', 'DGUID': '2021A00034813', 'LANDAREA': 24308.7404, 'PRUID': '48', 'geo_name': 'Division No. 13'}\n",
      "{'CDUID': '4814', 'DGUID': '2021A00034814', 'LANDAREA': 26902.8307, 'PRUID': '48', 'geo_name': 'Division No. 14'}\n",
      "{'CDUID': '4815', 'DGUID': '2021A00034815', 'LANDAREA': 28270.1441, 'PRUID': '48', 'geo_name': 'Division No. 15'}\n",
      "{'CDUID': '4816', 'DGUID': '2021A00034816', 'LANDAREA': 94072.3135, 'PRUID': '48', 'geo_name': 'Division No. 16'}\n",
      "{'CDUID': '4817', 'DGUID': '2021A00034817', 'LANDAREA': 190433.8288, 'PRUID': '48', 'geo_name': 'Division No. 17'}\n",
      "{'CDUID': '4818', 'DGUID': '2021A00034818', 'LANDAREA': 33104.453, 'PRUID': '48', 'geo_name': 'Division No. 18'}\n",
      "{'CDUID': '4819', 'DGUID': '2021A00034819', 'LANDAREA': 20454.382, 'PRUID': '48', 'geo_name': 'Division No. 19'}\n",
      "{'CDUID': '5901', 'DGUID': '2021A00035901', 'LANDAREA': 27514.0981, 'PRUID': '59', 'geo_name': 'East Kootenay'}\n",
      "{'CDUID': '5903', 'DGUID': '2021A00035903', 'LANDAREA': 22078.0985, 'PRUID': '59', 'geo_name': 'Central Kootenay'}\n",
      "{'CDUID': '5905', 'DGUID': '2021A00035905', 'LANDAREA': 8080.7585, 'PRUID': '59', 'geo_name': 'Kootenay Boundary'}\n",
      "{'CDUID': '5907', 'DGUID': '2021A00035907', 'LANDAREA': 10406.6406, 'PRUID': '59', 'geo_name': 'Okanagan-Similkameen'}\n",
      "{'CDUID': '5909', 'DGUID': '2021A00035909', 'LANDAREA': 13319.3437, 'PRUID': '59', 'geo_name': 'Fraser Valley'}\n",
      "{'CDUID': '5915', 'DGUID': '2021A00035915', 'LANDAREA': 2878.9304, 'PRUID': '59', 'geo_name': 'Greater Vancouver'}\n",
      "{'CDUID': '5917', 'DGUID': '2021A00035917', 'LANDAREA': 2338.2231, 'PRUID': '59', 'geo_name': 'Capital'}\n",
      "{'CDUID': '5919', 'DGUID': '2021A00035919', 'LANDAREA': 3472.4812, 'PRUID': '59', 'geo_name': 'Cowichan Valley'}\n",
      "{'CDUID': '5921', 'DGUID': '2021A00035921', 'LANDAREA': 2035.9264, 'PRUID': '59', 'geo_name': 'Nanaimo'}\n",
      "{'CDUID': '5923', 'DGUID': '2021A00035923', 'LANDAREA': 6577.0848, 'PRUID': '59', 'geo_name': 'Alberni-Clayoquot'}\n",
      "{'CDUID': '5924', 'DGUID': '2021A00035924', 'LANDAREA': 18243.6581, 'PRUID': '59', 'geo_name': 'Strathcona'}\n",
      "{'CDUID': '5926', 'DGUID': '2021A00035926', 'LANDAREA': 1697.0275, 'PRUID': '59', 'geo_name': 'Comox Valley'}\n",
      "{'CDUID': '5927', 'DGUID': '2021A00035927', 'LANDAREA': 5067.8901, 'PRUID': '59', 'geo_name': 'Powell River'}\n",
      "{'CDUID': '5929', 'DGUID': '2021A00035929', 'LANDAREA': 3767.431, 'PRUID': '59', 'geo_name': 'Sunshine Coast'}\n",
      "{'CDUID': '5931', 'DGUID': '2021A00035931', 'LANDAREA': 16296.3429, 'PRUID': '59', 'geo_name': 'Squamish-Lillooet'}\n",
      "{'CDUID': '5933', 'DGUID': '2021A00035933', 'LANDAREA': 44347.2347, 'PRUID': '59', 'geo_name': 'Thompson-Nicola'}\n",
      "{'CDUID': '5935', 'DGUID': '2021A00035935', 'LANDAREA': 2902.453, 'PRUID': '59', 'geo_name': 'Central Okanagan'}\n",
      "{'CDUID': '5937', 'DGUID': '2021A00035937', 'LANDAREA': 7497.2315, 'PRUID': '59', 'geo_name': 'North Okanagan'}\n",
      "{'CDUID': '5939', 'DGUID': '2021A00035939', 'LANDAREA': 28885.8194, 'PRUID': '59', 'geo_name': 'Columbia-Shuswap'}\n",
      "{'CDUID': '5941', 'DGUID': '2021A00035941', 'LANDAREA': 80373.7945, 'PRUID': '59', 'geo_name': 'Cariboo'}\n",
      "{'CDUID': '5943', 'DGUID': '2021A00035943', 'LANDAREA': 20186.4702, 'PRUID': '59', 'geo_name': 'Mount Waddington'}\n",
      "{'CDUID': '5945', 'DGUID': '2021A00035945', 'LANDAREA': 24433.7329, 'PRUID': '59', 'geo_name': 'Central Coast'}\n",
      "{'CDUID': '5947', 'DGUID': '2021A00035947', 'LANDAREA': 19710.3037, 'PRUID': '59', 'geo_name': 'Skeena-Queen Charlotte'}\n",
      "{'CDUID': '5949', 'DGUID': '2021A00035949', 'LANDAREA': 104307.2489, 'PRUID': '59', 'geo_name': 'Kitimat-Stikine'}\n",
      "{'CDUID': '5951', 'DGUID': '2021A00035951', 'LANDAREA': 73203.2249, 'PRUID': '59', 'geo_name': 'Bulkley-Nechako'}\n",
      "{'CDUID': '5953', 'DGUID': '2021A00035953', 'LANDAREA': 50580.7194, 'PRUID': '59', 'geo_name': 'Fraser-Fort George'}\n",
      "{'CDUID': '5955', 'DGUID': '2021A00035955', 'LANDAREA': 117216.7437, 'PRUID': '59', 'geo_name': 'Peace River'}\n",
      "{'CDUID': '5957', 'DGUID': '2021A00035957', 'LANDAREA': 118408.7578, 'PRUID': '59', 'geo_name': 'Stikine'}\n",
      "{'CDUID': '5959', 'DGUID': '2021A00035959', 'LANDAREA': 84858.8848, 'PRUID': '59', 'geo_name': 'Northern Rockies'}\n",
      "{'CDUID': '6001', 'DGUID': '2021A00036001', 'LANDAREA': 472345.4354, 'PRUID': '60', 'geo_name': 'Yukon'}\n",
      "{'CDUID': '6101', 'DGUID': '2021A00036101', 'LANDAREA': 357015.1298, 'PRUID': '61', 'geo_name': 'Region 1'}\n",
      "{'CDUID': '6102', 'DGUID': '2021A00036102', 'LANDAREA': 218296.9413, 'PRUID': '61', 'geo_name': 'Region 2'}\n",
      "{'CDUID': '6103', 'DGUID': '2021A00036103', 'LANDAREA': 24796.9499, 'PRUID': '61', 'geo_name': 'Region 3'}\n",
      "{'CDUID': '6104', 'DGUID': '2021A00036104', 'LANDAREA': 193265.4719, 'PRUID': '61', 'geo_name': 'Region 4'}\n",
      "{'CDUID': '6105', 'DGUID': '2021A00036105', 'LANDAREA': 152135.9223, 'PRUID': '61', 'geo_name': 'Region 5'}\n",
      "{'CDUID': '6106', 'DGUID': '2021A00036106', 'LANDAREA': 182201.5022, 'PRUID': '61', 'geo_name': 'Region 6'}\n",
      "{'CDUID': '6204', 'DGUID': '2021A00036204', 'LANDAREA': 970554.6112, 'PRUID': '62', 'geo_name': 'Qikiqtaaluk'}\n",
      "{'CDUID': '6205', 'DGUID': '2021A00036205', 'LANDAREA': 434331.1614, 'PRUID': '62', 'geo_name': 'Kivalliq'}\n",
      "{'CDUID': '6208', 'DGUID': '2021A00036208', 'LANDAREA': 432108.004, 'PRUID': '62', 'geo_name': 'Kitikmeot'}\n"
     ]
    }
   ],
   "source": [
    "for feature in censusDivisions[\"features\"]:\n",
    "    feature[\"properties\"].pop('CDTYPE')\n",
    "    feature[\"properties\"][\"geo_name\"] = feature[\"properties\"].pop('CDNAME')\n",
    "    print(feature[\"properties\"])"
   ]
  },
  {
   "cell_type": "code",
   "execution_count": 7,
   "id": "1acaca0c",
   "metadata": {
    "scrolled": true
   },
   "outputs": [],
   "source": [
    "CENSUS_DIV_DUMP = \"/Users/boristsao/Documents/Projects/canada-vis/data-exploration/upload/censusDivisions.json\"\n",
    "with open(CENSUS_DIV_DUMP, 'w', encoding='utf-8') as f:\n",
    "    json.dump(censusDivisions, f, ensure_ascii=False, indent=4)"
   ]
  },
  {
   "cell_type": "code",
   "execution_count": 8,
   "id": "00bd7624",
   "metadata": {},
   "outputs": [
    {
     "name": "stdout",
     "output_type": "stream",
     "text": [
      "dict_keys(['type', 'geometry', 'properties'])\n",
      "dict_keys(['PRUID', 'DGUID', 'LANDAREA', 'geo_name', 'CDUID'])\n"
     ]
    }
   ],
   "source": [
    "print(provinces[\"features\"][0].keys())\n",
    "print(provinces[\"features\"][0][\"properties\"].keys())"
   ]
  },
  {
   "cell_type": "code",
   "execution_count": 9,
   "id": "896eb00b",
   "metadata": {},
   "outputs": [
    {
     "name": "stdout",
     "output_type": "stream",
     "text": [
      "dict_keys(['type', 'geometry', 'properties'])\n",
      "dict_keys(['CDUID', 'DGUID', 'LANDAREA', 'PRUID', 'geo_name'])\n"
     ]
    }
   ],
   "source": [
    "print(censusDivisions[\"features\"][0].keys())\n",
    "print(censusDivisions[\"features\"][0][\"properties\"].keys())"
   ]
  },
  {
   "cell_type": "code",
   "execution_count": 16,
   "id": "8a301347",
   "metadata": {},
   "outputs": [
    {
     "name": "stdout",
     "output_type": "stream",
     "text": [
      "[[[[-55.938787214801195, 47.70220400294832], [-56.044236493749864, 47.61464281181179], [-55.91263508509915, 47.59784080719939], [-55.90241399899436, 47.631333713277876], [-55.937233507680766, 47.65315709136787], [-55.938787214801195, 47.70220400294832]]], [[[-54.74714421698952, 48.11002919444765], [-54.91615167890936, 48.24537442769905], [-55.109432869930906, 48.246838688449515], [-55.24791566156148, 48.21521694249447], [-55.27854411593209, 48.268556852013035], [-55.442247976381125, 48.28249670457702], [-55.6253089334514, 48.25008203306865], [-55.89548614377431, 48.24697764016488], [-55.973320835742626, 48.436343753254675], [-56.133469778918, 48.53664501723045], [-56.283800872555496, 48.49228140832816], [-56.522285713239796, 48.525650094616175], [-56.67648997535755, 48.36734485521565], [-56.84789317730096, 48.30856793673976], [-57.01866632755163, 48.30398755121567], [-57.03331631006101, 48.36969981363618], [-57.17506647953183, 48.35784935401067], [-57.24659596314342, 48.47442260245579], [-57.4731347463819, 48.33903535284136], [-57.71227261094262, 48.23879153987543], [-57.92164635113819, 48.223898662745626], [-57.994083765563985, 48.16983104220288], [-58.12015755196764, 48.15877551853074], [-58.189606290291984, 48.098625927153186], [-58.37615273625562, 48.07810657423135], [-58.358313214781134, 48.000080966119846], [-58.516272756997516, 47.91926616873786], [-58.99126462015244, 47.827510250451006], [-59.04201147144616, 47.75545284536433], [-59.13060496519958, 47.76602022090163], [-59.308638509130674, 47.66131609270782], [-59.208611289922075, 47.589672997175704], [-59.046270022327, 47.572766698978825], [-58.80132832203202, 47.597583196787866], [-58.37211080761859, 47.691200403223796], [-58.2389656130587, 47.66232479175114], [-58.10801859951377, 47.699366405389334], [-57.79992071064103, 47.63021939976174], [-57.59595189687573, 47.620785292865136], [-57.339446692115295, 47.65068298453841], [-57.34257660672999, 47.58897369535332], [-57.14019741739557, 47.57618049495718], [-57.015481513430686, 47.5938637040903], [-56.80435299170847, 47.53532959025609], [-56.59238700660556, 47.6181490131192], [-56.384891792035624, 47.602943498811946], [-56.222170406746265, 47.63372159183869], [-56.00229479749575, 47.74104358591391], [-55.8663524179341, 47.78302399908021], [-55.83112210129361, 47.73301259038066], [-55.895597803555894, 47.7046624043258], [-55.93221650055653, 47.656644792046], [-55.861082099738724, 47.599633714578566], [-55.99182791437205, 47.5464469047549], [-55.77739930066349, 47.44936469396751], [-55.44956599776262, 47.46607750071371], [-55.38557828951398, 47.679528503100556], [-55.08648426691444, 47.5903449559912], [-55.00717408429113, 47.66911136205747], [-54.854382371185515, 47.739545097248076], [-54.87717411094859, 47.86330414611073], [-54.77537967636813, 47.8631256714177], [-54.74951443421381, 47.97944782456775], [-54.68969039023097, 48.025888540740844], [-54.74714421698952, 48.11002919444765]]]]\n"
     ]
    }
   ],
   "source": [
    "print(censusDivisions[\"features\"][2]['geometry']['coordinates'])"
   ]
  },
  {
   "cell_type": "code",
   "execution_count": null,
   "id": "e82cc311",
   "metadata": {},
   "outputs": [],
   "source": []
  }
 ],
 "metadata": {
  "kernelspec": {
   "display_name": "Python 3 (ipykernel)",
   "language": "python",
   "name": "python3"
  },
  "language_info": {
   "codemirror_mode": {
    "name": "ipython",
    "version": 3
   },
   "file_extension": ".py",
   "mimetype": "text/x-python",
   "name": "python",
   "nbconvert_exporter": "python",
   "pygments_lexer": "ipython3",
   "version": "3.9.12"
  }
 },
 "nbformat": 4,
 "nbformat_minor": 5
}
