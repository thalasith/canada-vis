{
 "cells": [
  {
   "cell_type": "code",
   "execution_count": 16,
   "id": "80392c58",
   "metadata": {},
   "outputs": [],
   "source": [
    "# Loading the Libraries\n",
    "from dotenv import load_dotenv\n",
    "load_dotenv()\n",
    "import os\n",
    "import pandas as pd\n",
    "import numpy as np\n",
    "from sqlalchemy import create_engine\n",
    "import os,glob"
   ]
  },
  {
   "cell_type": "code",
   "execution_count": 18,
   "id": "8f060527",
   "metadata": {},
   "outputs": [],
   "source": [
    "AGE_GROUP_PATH = '/Users/boristsao/Documents/Projects/canada-vis/data-exploration/age_groups_test.csv'\n",
    "GEO_NAME_PATH = '/Users/boristsao/Documents/Projects/canada-vis/data-exploration/geo_name_test.csv'\n",
    "#CHANGE\n",
    "age_group = pd.read_csv(AGE_GROUP_PATH, index=False)\n",
    "geo_name = pd.read_csv(GEO_NAME_PATH, index=False)\n",
    "# df.shape"
   ]
  },
  {
   "cell_type": "code",
   "execution_count": 19,
   "id": "515479fb",
   "metadata": {},
   "outputs": [
    {
     "data": {
      "text/html": [
       "<div>\n",
       "<style scoped>\n",
       "    .dataframe tbody tr th:only-of-type {\n",
       "        vertical-align: middle;\n",
       "    }\n",
       "\n",
       "    .dataframe tbody tr th {\n",
       "        vertical-align: top;\n",
       "    }\n",
       "\n",
       "    .dataframe thead th {\n",
       "        text-align: right;\n",
       "    }\n",
       "</style>\n",
       "<table border=\"1\" class=\"dataframe\">\n",
       "  <thead>\n",
       "    <tr style=\"text-align: right;\">\n",
       "      <th></th>\n",
       "      <th>Unnamed: 0</th>\n",
       "      <th>dguid</th>\n",
       "      <th>alt_geo_code</th>\n",
       "      <th>geo_level</th>\n",
       "      <th>geo_name</th>\n",
       "    </tr>\n",
       "  </thead>\n",
       "  <tbody>\n",
       "    <tr>\n",
       "      <th>0</th>\n",
       "      <td>0</td>\n",
       "      <td>2021A000210</td>\n",
       "      <td>10</td>\n",
       "      <td>Province</td>\n",
       "      <td>Newfoundland and Labrador</td>\n",
       "    </tr>\n",
       "    <tr>\n",
       "      <th>1</th>\n",
       "      <td>1</td>\n",
       "      <td>2021A000211</td>\n",
       "      <td>11</td>\n",
       "      <td>Province</td>\n",
       "      <td>Prince Edward Island</td>\n",
       "    </tr>\n",
       "    <tr>\n",
       "      <th>2</th>\n",
       "      <td>2</td>\n",
       "      <td>2021A000212</td>\n",
       "      <td>12</td>\n",
       "      <td>Province</td>\n",
       "      <td>Nova Scotia</td>\n",
       "    </tr>\n",
       "    <tr>\n",
       "      <th>3</th>\n",
       "      <td>3</td>\n",
       "      <td>2021A000213</td>\n",
       "      <td>13</td>\n",
       "      <td>Province</td>\n",
       "      <td>New Brunswick</td>\n",
       "    </tr>\n",
       "    <tr>\n",
       "      <th>4</th>\n",
       "      <td>4</td>\n",
       "      <td>2021A000224</td>\n",
       "      <td>24</td>\n",
       "      <td>Province</td>\n",
       "      <td>Quebec</td>\n",
       "    </tr>\n",
       "  </tbody>\n",
       "</table>\n",
       "</div>"
      ],
      "text/plain": [
       "   Unnamed: 0        dguid  alt_geo_code geo_level                   geo_name\n",
       "0           0  2021A000210            10  Province  Newfoundland and Labrador\n",
       "1           1  2021A000211            11  Province       Prince Edward Island\n",
       "2           2  2021A000212            12  Province                Nova Scotia\n",
       "3           3  2021A000213            13  Province              New Brunswick\n",
       "4           4  2021A000224            24  Province                     Quebec"
      ]
     },
     "execution_count": 19,
     "metadata": {},
     "output_type": "execute_result"
    }
   ],
   "source": [
    "age_group.head()\n",
    "geo_name.head()"
   ]
  },
  {
   "cell_type": "code",
   "execution_count": 12,
   "id": "a905957d",
   "metadata": {},
   "outputs": [],
   "source": [
    "# Creating Connection\n",
    "ssl_args = {'ssl_ca': \"/etc/ssl/cert.pem\"}\n",
    "\n",
    "conn_string = 'mysql+pymysql://' + \"root\" + ':' + \"Chuckie2020!\" + '@' + \"localhost\" + '/' + \"canada_vis\" \n",
    "\n",
    "engine = create_engine(conn_string, connect_args=ssl_args)\n"
   ]
  },
  {
   "cell_type": "code",
   "execution_count": null,
   "id": "cd7812a6",
   "metadata": {},
   "outputs": [],
   "source": [
    "# Connecting Locally\n",
    "ssl_args = {'ssl_ca': \"/etc/ssl/cert.pem\"}\n",
    "\n",
    "conn_string = 'mysql+pymysql://' + os.getenv(\"USERNAME\") + ':' + os.getenv(\"PASSWORD\") + '@' + os.getenv(\"HOST\") + '/' + os.getenv(\"DATABASE\") \n",
    "\n",
    "engine = create_engine(conn_string, connect_args=ssl_args)\n"
   ]
  },
  {
   "cell_type": "code",
   "execution_count": 5,
   "id": "539005e5",
   "metadata": {},
   "outputs": [
    {
     "name": "stdout",
     "output_type": "stream",
     "text": [
      "pscale_pw_mSCd2tWSPRXgAc06lKr1MT9yrdxVvKcOqgSqN58PcWr\n"
     ]
    }
   ],
   "source": [
    "print(os.getenv(\"PASSWORD\"))"
   ]
  },
  {
   "cell_type": "code",
   "execution_count": 13,
   "id": "a032b9e8",
   "metadata": {},
   "outputs": [],
   "source": [
    "with engine.begin() as connection:\n",
    "    df.to_sql('age_groups', con=connection, if_exists='replace')"
   ]
  },
  {
   "cell_type": "code",
   "execution_count": 14,
   "id": "6e6f9e86",
   "metadata": {
    "scrolled": true
   },
   "outputs": [
    {
     "data": {
      "text/html": [
       "<div>\n",
       "<style scoped>\n",
       "    .dataframe tbody tr th:only-of-type {\n",
       "        vertical-align: middle;\n",
       "    }\n",
       "\n",
       "    .dataframe tbody tr th {\n",
       "        vertical-align: top;\n",
       "    }\n",
       "\n",
       "    .dataframe thead th {\n",
       "        text-align: right;\n",
       "    }\n",
       "</style>\n",
       "<table border=\"1\" class=\"dataframe\">\n",
       "  <thead>\n",
       "    <tr style=\"text-align: right;\">\n",
       "      <th></th>\n",
       "      <th>index</th>\n",
       "      <th>census_year</th>\n",
       "      <th>dguid</th>\n",
       "      <th>alt_geo_code</th>\n",
       "      <th>geo_level</th>\n",
       "      <th>geo_name</th>\n",
       "      <th>total_0_to_4_years</th>\n",
       "      <th>total_10_to_14_years</th>\n",
       "      <th>total_100_years_and_over</th>\n",
       "      <th>total_15_to_19_years</th>\n",
       "      <th>...</th>\n",
       "      <th>female_50_to_54_years</th>\n",
       "      <th>female_55_to_59_years</th>\n",
       "      <th>female_60_to_64_years</th>\n",
       "      <th>female_65_to_69_years</th>\n",
       "      <th>female_70_to_74_years</th>\n",
       "      <th>female_75_to_79_years</th>\n",
       "      <th>female_80_to_84_years</th>\n",
       "      <th>female_85_to_89_years</th>\n",
       "      <th>female_90_to_94_years</th>\n",
       "      <th>female_95_to_99_years</th>\n",
       "    </tr>\n",
       "  </thead>\n",
       "  <tbody>\n",
       "    <tr>\n",
       "      <th>0</th>\n",
       "      <td>9</td>\n",
       "      <td>2021</td>\n",
       "      <td>2021A000259</td>\n",
       "      <td>59</td>\n",
       "      <td>Province</td>\n",
       "      <td>British Columbia</td>\n",
       "      <td>216825.0</td>\n",
       "      <td>255790.0</td>\n",
       "      <td>1515.0</td>\n",
       "      <td>253690.0</td>\n",
       "      <td>...</td>\n",
       "      <td>170460.0</td>\n",
       "      <td>183825.0</td>\n",
       "      <td>184920.0</td>\n",
       "      <td>166700.0</td>\n",
       "      <td>141995.0</td>\n",
       "      <td>95015.0</td>\n",
       "      <td>65780.0</td>\n",
       "      <td>42005.0</td>\n",
       "      <td>23120.0</td>\n",
       "      <td>6925.0</td>\n",
       "    </tr>\n",
       "  </tbody>\n",
       "</table>\n",
       "<p>1 rows × 69 columns</p>\n",
       "</div>"
      ],
      "text/plain": [
       "   index  census_year        dguid  alt_geo_code geo_level          geo_name  \\\n",
       "0      9         2021  2021A000259            59  Province  British Columbia   \n",
       "\n",
       "   total_0_to_4_years  total_10_to_14_years  total_100_years_and_over  \\\n",
       "0            216825.0              255790.0                    1515.0   \n",
       "\n",
       "   total_15_to_19_years  ...  female_50_to_54_years  female_55_to_59_years  \\\n",
       "0              253690.0  ...               170460.0               183825.0   \n",
       "\n",
       "   female_60_to_64_years  female_65_to_69_years  female_70_to_74_years  \\\n",
       "0               184920.0               166700.0               141995.0   \n",
       "\n",
       "   female_75_to_79_years  female_80_to_84_years  female_85_to_89_years  \\\n",
       "0                95015.0                65780.0                42005.0   \n",
       "\n",
       "   female_90_to_94_years  female_95_to_99_years  \n",
       "0                23120.0                 6925.0  \n",
       "\n",
       "[1 rows x 69 columns]"
      ]
     },
     "execution_count": 14,
     "metadata": {},
     "output_type": "execute_result"
    }
   ],
   "source": [
    "with engine.begin() as connection:\n",
    "    read_test = pd.read_sql(\"SELECT * FROM age_groups WHERE geo_name='British Columbia' \", con=connection)\n",
    "#     df = pd.read_csv(csv,encoding=\"ISO-8859-1\")\n",
    "#     df.to_sql('age_groups', con=connection, if_exists='append')\n",
    "read_test.head()"
   ]
  },
  {
   "cell_type": "code",
   "execution_count": null,
   "id": "c408dd74",
   "metadata": {},
   "outputs": [],
   "source": [
    "# Upload Census Division and Province Data\n",
    "with engine.begin() as connection:\n",
    "    new_df.to_sql('age_groups', con=connection, if_exists='append')"
   ]
  }
 ],
 "metadata": {
  "kernelspec": {
   "display_name": "Python 3 (ipykernel)",
   "language": "python",
   "name": "python3"
  },
  "language_info": {
   "codemirror_mode": {
    "name": "ipython",
    "version": 3
   },
   "file_extension": ".py",
   "mimetype": "text/x-python",
   "name": "python",
   "nbconvert_exporter": "python",
   "pygments_lexer": "ipython3",
   "version": "3.9.12"
  }
 },
 "nbformat": 4,
 "nbformat_minor": 5
}
