{
 "cells": [
  {
   "cell_type": "code",
   "execution_count": 1,
   "metadata": {},
   "outputs": [],
   "source": [
    "# Loading the Libraries\n",
    "from dotenv import load_dotenv\n",
    "load_dotenv()\n",
    "import pandas as pd\n",
    "import numpy as np\n",
    "from sqlalchemy import create_engine\n",
    "import os,glob"
   ]
  },
  {
   "cell_type": "code",
   "execution_count": 2,
   "metadata": {},
   "outputs": [
    {
     "name": "stderr",
     "output_type": "stream",
     "text": [
      "/var/folders/0p/c1842hdx3cl1f16fhby8ffhr0000gn/T/ipykernel_48116/3377391174.py:2: DtypeWarning: Columns (4) have mixed types. Specify dtype option on import or set low_memory=False.\n",
      "  income_group = pd.read_csv(SUMMARY_PATH)\n"
     ]
    }
   ],
   "source": [
    "SUMMARY_PATH = '/Users/boristsao/Documents/Projects/canada-vis/data-exploration/final-data/summary.csv'\n",
    "income_group = pd.read_csv(SUMMARY_PATH)"
   ]
  },
  {
   "cell_type": "code",
   "execution_count": 3,
   "metadata": {},
   "outputs": [],
   "source": [
    "income_group = income_group[['dguid', 'total_average_household_size', 'total_median_age_of_the_population', 'total_median_employment_income_in_2020_among_recipients_($)', 'total_population_density_per_square_kilometre', 'total_population_percentage_change,_2016_to_2021', 'total_population,_2021']]"
   ]
  },
  {
   "cell_type": "code",
   "execution_count": 4,
   "metadata": {},
   "outputs": [
    {
     "data": {
      "text/html": [
       "<div>\n",
       "<style scoped>\n",
       "    .dataframe tbody tr th:only-of-type {\n",
       "        vertical-align: middle;\n",
       "    }\n",
       "\n",
       "    .dataframe tbody tr th {\n",
       "        vertical-align: top;\n",
       "    }\n",
       "\n",
       "    .dataframe thead th {\n",
       "        text-align: right;\n",
       "    }\n",
       "</style>\n",
       "<table border=\"1\" class=\"dataframe\">\n",
       "  <thead>\n",
       "    <tr style=\"text-align: right;\">\n",
       "      <th></th>\n",
       "      <th>dguid</th>\n",
       "      <th>total_average_household_size</th>\n",
       "      <th>total_median_age_of_the_population</th>\n",
       "      <th>total_median_employment_income_in_2020_among_recipients</th>\n",
       "      <th>total_population_density_per_square_kilometre</th>\n",
       "      <th>total_population_percentage_change_2016_to_2021</th>\n",
       "      <th>total_population_2021</th>\n",
       "    </tr>\n",
       "  </thead>\n",
       "  <tbody>\n",
       "    <tr>\n",
       "      <th>0</th>\n",
       "      <td>2021A000210</td>\n",
       "      <td>2.3</td>\n",
       "      <td>48.4</td>\n",
       "      <td>31600.0</td>\n",
       "      <td>1.4</td>\n",
       "      <td>-1.8</td>\n",
       "      <td>510550.0</td>\n",
       "    </tr>\n",
       "    <tr>\n",
       "      <th>1</th>\n",
       "      <td>2021A000211</td>\n",
       "      <td>2.3</td>\n",
       "      <td>44.0</td>\n",
       "      <td>31200.0</td>\n",
       "      <td>27.2</td>\n",
       "      <td>8.0</td>\n",
       "      <td>154331.0</td>\n",
       "    </tr>\n",
       "    <tr>\n",
       "      <th>2</th>\n",
       "      <td>2021A000212</td>\n",
       "      <td>2.2</td>\n",
       "      <td>45.6</td>\n",
       "      <td>33200.0</td>\n",
       "      <td>18.4</td>\n",
       "      <td>5.0</td>\n",
       "      <td>969383.0</td>\n",
       "    </tr>\n",
       "    <tr>\n",
       "      <th>3</th>\n",
       "      <td>2021A000213</td>\n",
       "      <td>2.3</td>\n",
       "      <td>46.8</td>\n",
       "      <td>33200.0</td>\n",
       "      <td>10.9</td>\n",
       "      <td>3.8</td>\n",
       "      <td>775610.0</td>\n",
       "    </tr>\n",
       "    <tr>\n",
       "      <th>4</th>\n",
       "      <td>2021A000224</td>\n",
       "      <td>2.2</td>\n",
       "      <td>43.2</td>\n",
       "      <td>36000.0</td>\n",
       "      <td>6.5</td>\n",
       "      <td>4.1</td>\n",
       "      <td>8501833.0</td>\n",
       "    </tr>\n",
       "  </tbody>\n",
       "</table>\n",
       "</div>"
      ],
      "text/plain": [
       "         dguid  total_average_household_size  \\\n",
       "0  2021A000210                           2.3   \n",
       "1  2021A000211                           2.3   \n",
       "2  2021A000212                           2.2   \n",
       "3  2021A000213                           2.3   \n",
       "4  2021A000224                           2.2   \n",
       "\n",
       "   total_median_age_of_the_population  \\\n",
       "0                                48.4   \n",
       "1                                44.0   \n",
       "2                                45.6   \n",
       "3                                46.8   \n",
       "4                                43.2   \n",
       "\n",
       "   total_median_employment_income_in_2020_among_recipients  \\\n",
       "0                                            31600.0         \n",
       "1                                            31200.0         \n",
       "2                                            33200.0         \n",
       "3                                            33200.0         \n",
       "4                                            36000.0         \n",
       "\n",
       "   total_population_density_per_square_kilometre  \\\n",
       "0                                            1.4   \n",
       "1                                           27.2   \n",
       "2                                           18.4   \n",
       "3                                           10.9   \n",
       "4                                            6.5   \n",
       "\n",
       "   total_population_percentage_change_2016_to_2021  total_population_2021  \n",
       "0                                             -1.8               510550.0  \n",
       "1                                              8.0               154331.0  \n",
       "2                                              5.0               969383.0  \n",
       "3                                              3.8               775610.0  \n",
       "4                                              4.1              8501833.0  "
      ]
     },
     "execution_count": 4,
     "metadata": {},
     "output_type": "execute_result"
    }
   ],
   "source": [
    "new_columns = {}\n",
    "for column in income_group.columns:\n",
    "    new_columns[column] = column.lower().replace(\"_($)\", \"\").replace(\",\", \"\").replace(\",\", \"\")\n",
    "income_group = income_group.rename(columns=new_columns)\n",
    "income_group.head()"
   ]
  },
  {
   "cell_type": "code",
   "execution_count": 5,
   "metadata": {},
   "outputs": [
    {
     "name": "stdout",
     "output_type": "stream",
     "text": [
      "dguid\n",
      "total_average_household_size\n",
      "total_median_age_of_the_population\n",
      "total_median_employment_income_in_2020_among_recipients\n",
      "total_population_density_per_square_kilometre\n",
      "total_population_percentage_change_2016_to_2021\n",
      "total_population_2021\n"
     ]
    }
   ],
   "source": [
    "for column in income_group.columns:\n",
    "    print(column)"
   ]
  },
  {
   "cell_type": "code",
   "execution_count": 7,
   "metadata": {},
   "outputs": [],
   "source": [
    "# Local Connection\n",
    "ssl_args = {'ssl_ca': \"/etc/ssl/cert.pem\"}\n",
    "\n",
    "conn_string = 'mysql+pymysql://' + \"root\" + ':' + \"Chuckie2020!\" + '@' + \"localhost\" + '/' + \"canada_vis\" \n",
    "\n",
    "engine = create_engine(conn_string, connect_args=ssl_args)"
   ]
  },
  {
   "cell_type": "code",
   "execution_count": 8,
   "metadata": {},
   "outputs": [],
   "source": [
    "with engine.begin() as connection:\n",
    "    income_group.to_sql('summary', con=connection, if_exists='replace')"
   ]
  },
  {
   "cell_type": "code",
   "execution_count": 6,
   "metadata": {},
   "outputs": [],
   "source": [
    " # Connecting to Planet Scale\n",
    "ssl_args = {'ssl_ca': \"/etc/ssl/cert.pem\"}\n",
    "\n",
    "conn_string = 'mysql+pymysql://' + os.getenv(\"USERNAME\") + ':' + os.getenv(\"PASSWORD\") + '@' + os.getenv(\"HOST\") + '/' + os.getenv(\"DATABASE\") \n",
    "\n",
    "engine = create_engine(conn_string, connect_args=ssl_args)\n",
    "\n",
    "with engine.begin() as connection:\n",
    "    income_group.to_sql('summary', con=connection, if_exists='replace')"
   ]
  },
  {
   "cell_type": "code",
   "execution_count": null,
   "metadata": {},
   "outputs": [],
   "source": []
  }
 ],
 "metadata": {
  "kernelspec": {
   "display_name": "Python 3.9.12 ('base')",
   "language": "python",
   "name": "python3"
  },
  "language_info": {
   "codemirror_mode": {
    "name": "ipython",
    "version": 3
   },
   "file_extension": ".py",
   "mimetype": "text/x-python",
   "name": "python",
   "nbconvert_exporter": "python",
   "pygments_lexer": "ipython3",
   "version": "3.9.12"
  },
  "orig_nbformat": 4,
  "vscode": {
   "interpreter": {
    "hash": "8d057af1a5c49b4bed786b95378487de8898a19ac88ffccdd8bd5a4534c5371a"
   }
  }
 },
 "nbformat": 4,
 "nbformat_minor": 2
}
